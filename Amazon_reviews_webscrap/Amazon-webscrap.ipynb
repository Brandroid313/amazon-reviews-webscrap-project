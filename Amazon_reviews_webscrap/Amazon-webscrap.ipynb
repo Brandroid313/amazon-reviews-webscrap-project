{
 "cells": [
  {
   "cell_type": "markdown",
   "metadata": {},
   "source": [
    "# !!WARNING GRADER PLEASER READ BEFORE RUNNING ANY CODE!!\n",
    "\n",
    "   The webscraping code below will only work if you have Docker installed with Splash. If you would like to run it, then instructions have been provided below for your convenience. \n",
    "   \n",
    "   It is not neccesary to run the webscraping software as the CSV files are included in the project file, and as such the analysis part will run without scraping. The webscraping code has been included, however, to show you the full process of how I gathered and cleaned the data.\n",
    "   \n",
    "   It should also be noted that the runtime for the web scraping code takes around an hour to run, so for your convenience, I have already included the CSV files so you can run the data analysis code without such a delay. \n",
    "    \n",
    "   Also please note that all the webscraping code has been commented out to prevent accidentaly ooverwiting the current csv files with empty data, as well as been altered to write with a new csv filename as a precautionary meausre. \n",
    "     \n",
    "   My aplogies for the inconvenience.\n",
    "      \n",
    "## Docker and Splash installation instuctions \n",
    "1) Go to the following website, https://www.docker.com/products/docker-desktop , and install Docker follwing the guide for which ever operating system you are on\n",
    "    \n",
    "2) Run the Docker software so it sets up( feel free to skip the tutorial )\n",
    "\n",
    "3) Install Splash by visiting this website, https://splash.readthedocs.io/en/stable/ , and choosing the version that matches your operating system\n",
    "\n",
    "4) After running the command ( I used the mac command in terminal ) go to Docker and look in the section called \" Images \" and you should see \" scrappinghub/splash \" there\n",
    "\n",
    "5) Click the run command there\n",
    "\n",
    "6) Click the Optional settings button\n",
    "\n",
    "7) Name the containter \" splash \" and set the port to 8050\n",
    "\n",
    "8) Click run\n",
    "\n",
    "You should be running splash now in the background"
   ]
  },
  {
   "cell_type": "markdown",
   "metadata": {},
   "source": [
    "# Paper Proper begins from here: Abandon all logic ye who enter here..."
   ]
  },
  {
   "cell_type": "markdown",
   "metadata": {},
   "source": [
    "# Look who's talkin! \n",
    "\n",
    "## A look into where we put more of our energy, in negative or positive emotions\n",
    "\n",
    " As humans we tend to notice more bad news than good because negative news tends to weigh more heavily on the brain[1] But do we put as much energy into expressing the negative, rather than the positive emotions? \n",
    "\n",
    "\n",
    " Below I attempt to try and find, organize and analyze data to see if I can answer the following question:\n",
    " \n",
    " # Do we put more effort into expressing postive or negative emotions?\n",
    "\n"
   ]
  },
  {
   "cell_type": "markdown",
   "metadata": {},
   "source": [
    "# Table of contents\n",
    "\n",
    "## Problem definition \n",
    "How to measure energy and effort in context of emotions?\n",
    "\n",
    "Source of data\n",
    "\n",
    "Definitions of what we are measuring\n",
    "\n",
    "## Data Collection and cleaning\n",
    "The what, The how and The Ugly (Ethics)\n",
    "\n",
    "The ( mostly commented out ) Web Scraping code\n",
    "## Data Analyzing and Summary\n",
    "Checking the data\n",
    "\n",
    "Combining the Data\n",
    "\n",
    "Looking at the data via word clouds and charts\n",
    "\n",
    "Polarization of the data\n",
    "\n",
    "Summary - Putting all three metrics in one place\n",
    "## Critizisms of my methodology \n",
    "Metrics\n",
    "\n",
    "Source of Data\n",
    "\n",
    "Final Thoughts\n",
    "## Citations"
   ]
  },
  {
   "cell_type": "markdown",
   "metadata": {},
   "source": [
    "# Problem definition"
   ]
  },
  {
   "cell_type": "markdown",
   "metadata": {},
   "source": [
    "## How does one measure \" energy \" or \" effort\" in the context of emotions?\n",
    "\n",
    "So in order to guage this I thought about what sources of information I could gather on the internet that would be obviously negative or postive. The first problem was to choose where the informaion could come from. Ideally it should be something the elicits emotionally charged responses, those responses already organized into negative and positive responses and cover as wide a demographic as possible. \n",
    "\n",
    " The next was to define what we are measuring and how that relates ( or doesn't ) to expressing negative or positive emotions. \n",
    " \n",
    "  Finally, the last problem was to gather, organize and analyzise the data and see what it points to.\n",
    "### Source of Data\n",
    "With the above in mind, I thought a good place to look would be Amazons reviews of products. My reasoning was as follows:\n",
    "\n",
    "1) The data is already divded by emotion, i.e negative reviews and positive reviews.\n",
    "\n",
    "2) There is a lot of it. There is no shortage of publicaly viewable review data for us to puruse.\n",
    "\n",
    "3) I can get a variety of products to gauge, rather than just one that may skew the results in favour of a certain narrow demographic ( for example reviews of high end restuarants would only give me a glimpse into people in that geographic location and socio-ecoomic background) and Amazon is not bound by either ( at least very strongly ) as it is used by people of all walks of life and virtually every corner of the globe.\n",
    "\n",
    "\n",
    "### Defintions of what I am measuring\n",
    "Now with a source of data, I needed to define what to measure that could convey the strength of someones effort, or energy , they put into the reviews. So I came up with the following three measurements to test.\n",
    "\n",
    "1) Polarity - In sentiment analysis, a trained model can detect how negative or positve a given string is. So I decided to compare the polarity of the combined negative and positive reviews and see how \" positve \" or \" negative \" they were to try and judge the strength of the emotion into the review. For this, in the negative reviews I want to look at the negative polarity scores, and for the positive ones the polarity scores.\n",
    "\n",
    "2) Keyboard energy - This is one of my own invention. This is simply the number of total characters someone typed, divided by the number of actual tokenizable words and tokens in a sentence. My reasoning is people that would be very emotional might use less words and more symbols ( example '!' and '!?!?!' etc. ) as well as use smaller words as when we are emotionally charged( either good or bad ) our prefrontal cortex is not as engaged[3]. So the larger the number, the more likely they used larger words, and a smaller number would mean smaller words.\n",
    "\n",
    "3) Total number of words used - I also want to measure the total amount of words used. It takes far more energy to write a long paragraph than a short one, so I was curious, which wins out? Are we more likely to write a prasing of a great product, or a scathing review?"
   ]
  },
  {
   "cell_type": "markdown",
   "metadata": {},
   "source": [
    "# Data Collection "
   ]
  },
  {
   "cell_type": "markdown",
   "metadata": {},
   "source": [
    "## The what, the How and the Ugly( Ethics )\n",
    "### The What\n",
    "With Amazon in my sights I decided to get the 1 star and 5 star reviews only ( as they are the most negative and positve) for 3 catagories of products:\n",
    "\n",
    "1) Tech/Games\n",
    "\n",
    "2) Beauty Products\n",
    "\n",
    "3) Fitness \n",
    "\n",
    "By using data from three fairly different genres of products I would hopefully be covering a fairly wide section of the internets denizens. \n",
    "\n",
    "### The How\n",
    "I decided to test my webscraping skills learned in the course, so below I built a webscraper for reviews by visiting Amazons site and choosing at random three items that fit my criteria. I then went to the reviews for the 1 star and 5 star reviews repectively, inspected the proper area's and after finding the common div and tag structure, begin building the function below to scrap the review informaion. \n",
    "\n",
    "### The Ethics\n",
    "I found very quickly that Amazon does not like to be scraped, but do not outright ban it. I read about the legality of it [2] and found a consesus that as long as I abided by the following set of guidelines, I wouldn't be breaking any hard laws, and would be using a minimal amount of Amazon's resources.\n",
    "\n",
    "The guidlines were:\n",
    "1) The information should not be copyright protected\n",
    "\n",
    "2) The action of data extraction shouldn't burden the Assistance of the website being scraped\n",
    "\n",
    "3) The bot must follow the Conditions of Use of their website being scraped and never violate them\n",
    "\n",
    "4) The scraper shouldn't collect data that violates the fundamental sense of solitude and safety like sensitive consumer info\n",
    "\n",
    "5) The data Ought to Be expressed According to the criteria of fair use\n",
    "\n",
    "And the things I should be scraping were said to be ok of the following:\n",
    "1) Product information\n",
    "\n",
    "2) Reviews\n",
    "\n",
    "3) Prices\n",
    "\n",
    "4) Description\n",
    "\n",
    "Therefore, since I was scraping only Review information, and for the purpose of a school project, I was not in violation of the guidelines. \n",
    "\n",
    "The next Ethical question was, am I using too much of their resources? So to combat that I used the following techniques to mitigate using too much of their resouorces:\n",
    "\n",
    "1) I Used Splash which would load an Amazon page for me and scrape it instead, so from Amazons point of view, they just had a normal visitor loading the page, and slower so I woodln't be sending them a torrent of requests.\n",
    "\n",
    "2) I made sure to only scrape no more than 300 reviews for each catagory, for a total of 900, which should not be too heavy on their servers given the sheer scale of the site.\n",
    "\n",
    "3) I only collected information that was about the products, and publicaly available, nor did I record cutomer names, to protect their privacy."
   ]
  },
  {
   "cell_type": "markdown",
   "metadata": {},
   "source": [
    "## The Web Scraping Code\n",
    "\n",
    "Below is the code I used to scrab Amazon's website. The three products I chose to scrap were:\n",
    "\n",
    "1) Oculus Rift ( Tech/Games )\n",
    "\n",
    "2) Perfume ( Beauty )\n",
    "\n",
    "3) Fitbit ( Fitness )"
   ]
  },
  {
   "cell_type": "markdown",
   "metadata": {},
   "source": [
    " First I import the libraries I need as well as Pandas as I will be converting the scrapped data into a dataframe before writing it to a CSV file"
   ]
  },
  {
   "cell_type": "code",
   "execution_count": 1,
   "metadata": {},
   "outputs": [],
   "source": [
    "import requests\n",
    "from bs4 import BeautifulSoup\n",
    "import pandas as pd"
   ]
  },
  {
   "cell_type": "markdown",
   "metadata": {},
   "source": [
    " Then I set up an empty containter to hold the review lists I will scrap, and make a function to take in the URL's I give it and and have Splash send the request, and soup parses and holds all the raw HTML text.\n",
    "\n",
    "After I created a new functioon called get_reviews that takes the raw HTML data, cleans it and returns a dict that contains the rating, product name, review title and review body. Then the function appends the dict to the review list."
   ]
  },
  {
   "cell_type": "code",
   "execution_count": 2,
   "metadata": {},
   "outputs": [],
   "source": [
    "#The list to hold reviews as I scrap them\n",
    "review_list = []\n",
    "\n",
    "#Getting the urls by scraping Splash instead of Amazon\n",
    "def get_soup(url):\n",
    "    r = requests.get('http://localhost:8050/render.html', params={'url': url,'wait':2})\n",
    "    soup = BeautifulSoup(r.text, 'html.parser')\n",
    "    return soup\n",
    "\n",
    "# The get reviews function cleans the data from the raw HTML and organizes it into the parts I need\n",
    "\n",
    "def get_reviews(soup):    \n",
    "    reviews = soup.find_all('div',{'data-hook':'review'})\n",
    "    try: # in the case we get some outliers in the style, if we do pass, if not append the list\n",
    "        for rev_item in reviews:\n",
    "            review = {\n",
    "                'rating': float(rev_item.find('i', {'data-hook': 'review-star-rating'}).text.replace('out of 5 stars','').strip()),\n",
    "                'product': soup.title.text.replace('Amazon.com: Customer reviews: ', '').strip(),\n",
    "                'rev_title' : rev_item.find('a', {'data-hook':'review-title'}).text.strip(),\n",
    "                'rev_body' : rev_item.find('span', {'data-hook':'review-body'}).text.strip()\n",
    "            }\n",
    "            review_list.append(review) \n",
    "    except:\n",
    "        pass \n"
   ]
  },
  {
   "cell_type": "markdown",
   "metadata": {},
   "source": [
    "Next I write 6 for loops, each one iterating over 30 pages of the 1 star and 5 star reviews for each item I am looking at. In each iteration it calls the soup function, and the iterator holds the number for the page being scrapped, then it calls the get_reviews function and passes it the raw HTML it just received. \n",
    "\n",
    "I also wrote a print function to keep track of the number of times it has looped as this part took quite a long time and at first I wasn't sure if it was working or not, as well as the length of the dict to double check the list was growing.\n",
    "\n",
    "### Please note the code is commented out as per the reasons above to prevent accidentally overwriting the CSV files included in this notebook. If you have installed Docker and Splash, please feel free to run the code.\n",
    "\n",
    "### The URL's can also be copied and pasted to view the source website, but be sure to replace the ' { i } '  with  a page number to look at the indivudal Amazon review"
   ]
  },
  {
   "cell_type": "markdown",
   "metadata": {},
   "source": [
    "The one star Oculus reviews"
   ]
  },
  {
   "cell_type": "code",
   "execution_count": 3,
   "metadata": {},
   "outputs": [],
   "source": [
    "#Getting the 1 star Oculus reviews\n",
    "#for i in range(1, 31):\n",
    "#    soup = get_soup(f'https://www.amazon.com/product-reviews/B08F7PTF53/ref=cm_cr_getr_d_paging_btm_next_2?ie=UTF8&filterByStar=one_star&reviewerType=all_reviews&pageNumber={i}#reviews-filter-bar')\n",
    "#    print(f'Getting page: {i}')\n",
    "#    get_reviews(soup)\n",
    "#    print(len(review_list))\n",
    "#    if not soup.find('li', {'class':'a-disabled a-last'}):\n",
    "#        pass\n",
    "#    else:\n",
    "#        break "
   ]
  },
  {
   "cell_type": "markdown",
   "metadata": {},
   "source": [
    "Then the data is passed into a pandas dataframe, so I can sturcture it and write it to a CSV file to use later. \n",
    "\n",
    "### Please note the csv file names have been changed from the original with the addition of _2 at the end of the orginal name.\n",
    "\n",
    "This is in case the URL, or Amazon website layouot has changed, so that the original data can still be ran through the analysis code.  \n",
    "\n",
    "Then the review list is cleared to make way for the next batch of reviews. "
   ]
  },
  {
   "cell_type": "code",
   "execution_count": 4,
   "metadata": {},
   "outputs": [],
   "source": [
    "#df = pd.DataFrame(review_list)\n",
    "#Adding it to a csv file\n",
    "#df.to_csv('oc_1_reviews_2.csv', index=False)\n",
    "# Clearing the list\n",
    "#review_list.clear()"
   ]
  },
  {
   "cell_type": "markdown",
   "metadata": {},
   "source": [
    "### The same as above 5 more times for the other reviews in the following order, 5-star oculus data, 1-star perfume reviews, 5-star perfume reviews, 1-star fitbit reviews, 5-star fitbit reviews"
   ]
  },
  {
   "cell_type": "markdown",
   "metadata": {},
   "source": [
    "The five star oculus reviews"
   ]
  },
  {
   "cell_type": "code",
   "execution_count": 5,
   "metadata": {},
   "outputs": [],
   "source": [
    "#for i in range(1, 31):\n",
    "#    soup = get_soup(f'https://www.amazon.com/product-reviews/B08F7PTF53/ref=cm_cr_unknown?ie=UTF8&filterByStar=five_star&reviewerType=all_reviews&pageNumber={i}#reviews-filter-bar')\n",
    "#    print(f'Getting page: {i}')\n",
    "#    get_reviews(soup)\n",
    "#    print(len(review_list))\n",
    "#    if not soup.find('li', {'class':'a-disabled a-last'}):\n",
    "#        pass\n",
    "#    else:\n",
    "#        break "
   ]
  },
  {
   "cell_type": "markdown",
   "metadata": {},
   "source": [
    "Adding them to data frame, writing to CSV file and clearing the list"
   ]
  },
  {
   "cell_type": "code",
   "execution_count": 6,
   "metadata": {},
   "outputs": [],
   "source": [
    "#df = pd.DataFrame(review_list)\n",
    "#Adding it to a csv file\n",
    "#df.to_csv('oc_5_reviews_2.csv', index=False)\n",
    "# Clearing the list\n",
    "#review_list.clear()"
   ]
  },
  {
   "cell_type": "markdown",
   "metadata": {},
   "source": [
    "The one star perfume reviews"
   ]
  },
  {
   "cell_type": "code",
   "execution_count": 7,
   "metadata": {},
   "outputs": [],
   "source": [
    "#for i in range(1, 31):\n",
    "#    soup = get_soup(f'https://www.amazon.com/product-reviews/B000JL7WQK/ref=cm_cr_arp_d_paging_btm_next_2?ie=UTF8&filterByStar=one_star&reviewerType=all_reviews&pageNumber={i}#reviews-filter-bar')\n",
    "#    print(f'Getting page: {i}')\n",
    "#    get_reviews(soup)\n",
    "    #print(len(review_list))\n",
    "#    if not soup.find('li', {'class':'a-disabled a-last'}):\n",
    "#        pass\n",
    "#    else:\n",
    "#        break "
   ]
  },
  {
   "cell_type": "markdown",
   "metadata": {},
   "source": [
    "Adding them to data frame, writing to CSV file and clearing the list"
   ]
  },
  {
   "cell_type": "code",
   "execution_count": 8,
   "metadata": {},
   "outputs": [],
   "source": [
    "#df = pd.DataFrame(review_list)\n",
    "#Adding it to a csv file\n",
    "#df.to_csv('perf_1_reviews_2.csv', index=False)\n",
    "# Clearing the list\n",
    "#review_list.clear()"
   ]
  },
  {
   "cell_type": "markdown",
   "metadata": {},
   "source": [
    "The five star perfume reviews"
   ]
  },
  {
   "cell_type": "code",
   "execution_count": 9,
   "metadata": {},
   "outputs": [],
   "source": [
    "#for i in range(1, 31):\n",
    "#    soup = get_soup(f'https://www.amazon.com/product-reviews/B000JL7WQK/ref=cm_cr_getr_d_paging_btm_next_2?ie=UTF8&filterByStar=five_star&reviewerType=all_reviews&pageNumber={i}#reviews-filter-bar')\n",
    "#    print(f'Getting page: {i}')\n",
    "#    get_reviews(soup)\n",
    "    #print(len(review_list))\n",
    "#    if not soup.find('li', {'class':'a-disabled a-last'}):\n",
    "#        pass\n",
    "#    else:\n",
    "#        break "
   ]
  },
  {
   "cell_type": "markdown",
   "metadata": {},
   "source": [
    "Adding them to data frame, writing to CSV file and clearing the list"
   ]
  },
  {
   "cell_type": "code",
   "execution_count": 10,
   "metadata": {},
   "outputs": [],
   "source": [
    "#df = pd.DataFrame(review_list)\n",
    "#Adding it to a csv file\n",
    "#df.to_csv('perf_5_reviews_2.csv', index=False)\n",
    "# Clearing the list\n",
    "#review_list.clear()"
   ]
  },
  {
   "cell_type": "markdown",
   "metadata": {},
   "source": [
    "The one star fitbit reviews"
   ]
  },
  {
   "cell_type": "code",
   "execution_count": 11,
   "metadata": {},
   "outputs": [],
   "source": [
    "#for i in range(1, 31):\n",
    "#    soup = get_soup(f'https://www.amazon.com/product-reviews/B08DFGPTSK/ref=cm_cr_arp_d_paging_btm_next_2?ie=UTF8&filterByStar=one_star&reviewerType=all_reviews&pageNumber={i}#reviews-filter-bar')\n",
    "#    print(f'Getting page: {i}')\n",
    "#    get_reviews(soup)\n",
    "    #print(len(review_list))\n",
    "#    if not soup.find('li', {'class':'a-disabled a-last'}):\n",
    "#        pass\n",
    "#    else:\n",
    "#        break "
   ]
  },
  {
   "cell_type": "markdown",
   "metadata": {},
   "source": [
    "Adding them to data frame, writing to CSV file and clearing the list"
   ]
  },
  {
   "cell_type": "code",
   "execution_count": 12,
   "metadata": {},
   "outputs": [],
   "source": [
    "#df = pd.DataFrame(review_list)\n",
    "#Adding it to a csv file\n",
    "#df.to_csv('fitbit_1_reviews_2.csv', index=False)\n",
    "# Clearing the list\n",
    "#review_list.clear()"
   ]
  },
  {
   "cell_type": "markdown",
   "metadata": {},
   "source": [
    "The five star fitbit reviews"
   ]
  },
  {
   "cell_type": "code",
   "execution_count": 13,
   "metadata": {},
   "outputs": [],
   "source": [
    "#for i in range(1, 31):\n",
    "#    soup = get_soup(f'https://www.amazon.com/product-reviews/B08DFGPTSK/ref=cm_cr_unknown?ie=UTF8&filterByStar=five_star&reviewerType=all_reviews&pageNumber={i}#reviews-filter-bar')\n",
    "#    print(f'Getting page: {i}')\n",
    "#    get_reviews(soup)\n",
    "    #print(len(review_list))\n",
    "#    if not soup.find('li', {'class':'a-disabled a-last'}):\n",
    "#        pass\n",
    "#    else:\n",
    "#        break"
   ]
  },
  {
   "cell_type": "markdown",
   "metadata": {},
   "source": [
    "Adding them to data frame, writing to CSV file and clearing the list"
   ]
  },
  {
   "cell_type": "code",
   "execution_count": 14,
   "metadata": {},
   "outputs": [],
   "source": [
    "#df = pd.DataFrame(review_list)\n",
    "#Adding it to a csv file\n",
    "#df.to_csv('fitbit_5_reviews_2.csv', index=False)\n",
    "# Clearing the list\n",
    "#review_list.clear()"
   ]
  },
  {
   "cell_type": "markdown",
   "metadata": {},
   "source": [
    "# Data Analysis ( and a bit more organization)"
   ]
  },
  {
   "cell_type": "markdown",
   "metadata": {},
   "source": [
    "So now we have our csv files, I need to start looking at the data. I import the libraries I think I'll need first as I would like to take a peek at the words inside the reviews first just in case there are some intersting patterns. So I would like to see it first as a word cloud and then a graph of the most used words for each set of reviews first."
   ]
  },
  {
   "cell_type": "code",
   "execution_count": 15,
   "metadata": {},
   "outputs": [],
   "source": [
    "import numpy as np\n",
    "from wordcloud import WordCloud, STOPWORDS\n",
    "import matplotlib.pyplot as plt\n",
    "# Tokenize the data into individual words \n",
    "import nltk \n",
    "from nltk.tokenize import word_tokenize\n"
   ]
  },
  {
   "cell_type": "markdown",
   "metadata": {},
   "source": [
    "# Checking the data frames are properly cleaned and organized \n",
    "\n",
    "First lets load the csv files and take a look at them, make sure everything is orgamized correctly for each set"
   ]
  },
  {
   "cell_type": "markdown",
   "metadata": {},
   "source": [
    "# The 5 Star Oculus Reviews"
   ]
  },
  {
   "cell_type": "code",
   "execution_count": 16,
   "metadata": {},
   "outputs": [],
   "source": [
    "# Load in the dataframe\n",
    "oc1_df = pd.read_csv(\"oc_1_reviews.csv\")"
   ]
  },
  {
   "cell_type": "code",
   "execution_count": 17,
   "metadata": {
    "scrolled": true
   },
   "outputs": [
    {
     "data": {
      "text/html": [
       "<div>\n",
       "<style scoped>\n",
       "    .dataframe tbody tr th:only-of-type {\n",
       "        vertical-align: middle;\n",
       "    }\n",
       "\n",
       "    .dataframe tbody tr th {\n",
       "        vertical-align: top;\n",
       "    }\n",
       "\n",
       "    .dataframe thead th {\n",
       "        text-align: right;\n",
       "    }\n",
       "</style>\n",
       "<table border=\"1\" class=\"dataframe\">\n",
       "  <thead>\n",
       "    <tr style=\"text-align: right;\">\n",
       "      <th></th>\n",
       "      <th>rating</th>\n",
       "      <th>product</th>\n",
       "      <th>rev_title</th>\n",
       "      <th>rev_body</th>\n",
       "    </tr>\n",
       "  </thead>\n",
       "  <tbody>\n",
       "    <tr>\n",
       "      <th>0</th>\n",
       "      <td>1.0</td>\n",
       "      <td>Oculus Quest 2 — Advanced All-In-One Virtual R...</td>\n",
       "      <td>FACEBOOK CAN JUST DISABLE YOUR FB ACCOUNT AND ...</td>\n",
       "      <td>I've been looking forward to this VR headset s...</td>\n",
       "    </tr>\n",
       "    <tr>\n",
       "      <th>1</th>\n",
       "      <td>1.0</td>\n",
       "      <td>Oculus Quest 2 — Advanced All-In-One Virtual R...</td>\n",
       "      <td>replace all the words Oculus with Facebook to ...</td>\n",
       "      <td>its a FACEBOOK NOT OCULUS product you HAVE TO ...</td>\n",
       "    </tr>\n",
       "    <tr>\n",
       "      <th>2</th>\n",
       "      <td>1.0</td>\n",
       "      <td>Oculus Quest 2 — Advanced All-In-One Virtual R...</td>\n",
       "      <td>Facebook wants your info</td>\n",
       "      <td>I guess I should have realized that being cont...</td>\n",
       "    </tr>\n",
       "    <tr>\n",
       "      <th>3</th>\n",
       "      <td>1.0</td>\n",
       "      <td>Oculus Quest 2 — Advanced All-In-One Virtual R...</td>\n",
       "      <td>NOT \"All-In-One\" - PHONE REQUIRED!</td>\n",
       "      <td>\"Advanced All-In-One Virtual Reality Headset\" ...</td>\n",
       "    </tr>\n",
       "    <tr>\n",
       "      <th>4</th>\n",
       "      <td>1.0</td>\n",
       "      <td>Oculus Quest 2 — Advanced All-In-One Virtual R...</td>\n",
       "      <td>NO to exposing my kid to Facebook and social m...</td>\n",
       "      <td>Got this for my 13 year old as BD gift, just t...</td>\n",
       "    </tr>\n",
       "    <tr>\n",
       "      <th>...</th>\n",
       "      <td>...</td>\n",
       "      <td>...</td>\n",
       "      <td>...</td>\n",
       "      <td>...</td>\n",
       "    </tr>\n",
       "    <tr>\n",
       "      <th>295</th>\n",
       "      <td>1.0</td>\n",
       "      <td>Oculus Quest 2 — Advanced All-In-One Virtual R...</td>\n",
       "      <td>Dont buy it here!</td>\n",
       "      <td>The product was dirty the batteries doesn't la...</td>\n",
       "    </tr>\n",
       "    <tr>\n",
       "      <th>296</th>\n",
       "      <td>1.0</td>\n",
       "      <td>Oculus Quest 2 — Advanced All-In-One Virtual R...</td>\n",
       "      <td>Can’t see</td>\n",
       "      <td>Got it from Best Buy, I can’t see through the ...</td>\n",
       "    </tr>\n",
       "    <tr>\n",
       "      <th>297</th>\n",
       "      <td>1.0</td>\n",
       "      <td>Oculus Quest 2 — Advanced All-In-One Virtual R...</td>\n",
       "      <td>Really disappointed</td>\n",
       "      <td>Fan came defective, link doesn't work properly...</td>\n",
       "    </tr>\n",
       "    <tr>\n",
       "      <th>298</th>\n",
       "      <td>1.0</td>\n",
       "      <td>Oculus Quest 2 — Advanced All-In-One Virtual R...</td>\n",
       "      <td>Incorrect advertisement</td>\n",
       "      <td>When purchased the description did not specify...</td>\n",
       "    </tr>\n",
       "    <tr>\n",
       "      <th>299</th>\n",
       "      <td>1.0</td>\n",
       "      <td>Oculus Quest 2 — Advanced All-In-One Virtual R...</td>\n",
       "      <td>What happened to Next VR?</td>\n",
       "      <td>I used to watch NBA and other sports in VR on ...</td>\n",
       "    </tr>\n",
       "  </tbody>\n",
       "</table>\n",
       "<p>300 rows × 4 columns</p>\n",
       "</div>"
      ],
      "text/plain": [
       "     rating                                            product  \\\n",
       "0       1.0  Oculus Quest 2 — Advanced All-In-One Virtual R...   \n",
       "1       1.0  Oculus Quest 2 — Advanced All-In-One Virtual R...   \n",
       "2       1.0  Oculus Quest 2 — Advanced All-In-One Virtual R...   \n",
       "3       1.0  Oculus Quest 2 — Advanced All-In-One Virtual R...   \n",
       "4       1.0  Oculus Quest 2 — Advanced All-In-One Virtual R...   \n",
       "..      ...                                                ...   \n",
       "295     1.0  Oculus Quest 2 — Advanced All-In-One Virtual R...   \n",
       "296     1.0  Oculus Quest 2 — Advanced All-In-One Virtual R...   \n",
       "297     1.0  Oculus Quest 2 — Advanced All-In-One Virtual R...   \n",
       "298     1.0  Oculus Quest 2 — Advanced All-In-One Virtual R...   \n",
       "299     1.0  Oculus Quest 2 — Advanced All-In-One Virtual R...   \n",
       "\n",
       "                                             rev_title  \\\n",
       "0    FACEBOOK CAN JUST DISABLE YOUR FB ACCOUNT AND ...   \n",
       "1    replace all the words Oculus with Facebook to ...   \n",
       "2                             Facebook wants your info   \n",
       "3                   NOT \"All-In-One\" - PHONE REQUIRED!   \n",
       "4    NO to exposing my kid to Facebook and social m...   \n",
       "..                                                 ...   \n",
       "295                                  Dont buy it here!   \n",
       "296                                          Can’t see   \n",
       "297                                Really disappointed   \n",
       "298                            Incorrect advertisement   \n",
       "299                          What happened to Next VR?   \n",
       "\n",
       "                                              rev_body  \n",
       "0    I've been looking forward to this VR headset s...  \n",
       "1    its a FACEBOOK NOT OCULUS product you HAVE TO ...  \n",
       "2    I guess I should have realized that being cont...  \n",
       "3    \"Advanced All-In-One Virtual Reality Headset\" ...  \n",
       "4    Got this for my 13 year old as BD gift, just t...  \n",
       "..                                                 ...  \n",
       "295  The product was dirty the batteries doesn't la...  \n",
       "296  Got it from Best Buy, I can’t see through the ...  \n",
       "297  Fan came defective, link doesn't work properly...  \n",
       "298  When purchased the description did not specify...  \n",
       "299  I used to watch NBA and other sports in VR on ...  \n",
       "\n",
       "[300 rows x 4 columns]"
      ]
     },
     "execution_count": 17,
     "metadata": {},
     "output_type": "execute_result"
    }
   ],
   "source": [
    "# Check the data frame is correct\n",
    "oc1_df\n"
   ]
  },
  {
   "cell_type": "markdown",
   "metadata": {},
   "source": [
    "# The 5 Star Oculus Reviews"
   ]
  },
  {
   "cell_type": "code",
   "execution_count": 18,
   "metadata": {},
   "outputs": [
    {
     "data": {
      "text/html": [
       "<div>\n",
       "<style scoped>\n",
       "    .dataframe tbody tr th:only-of-type {\n",
       "        vertical-align: middle;\n",
       "    }\n",
       "\n",
       "    .dataframe tbody tr th {\n",
       "        vertical-align: top;\n",
       "    }\n",
       "\n",
       "    .dataframe thead th {\n",
       "        text-align: right;\n",
       "    }\n",
       "</style>\n",
       "<table border=\"1\" class=\"dataframe\">\n",
       "  <thead>\n",
       "    <tr style=\"text-align: right;\">\n",
       "      <th></th>\n",
       "      <th>rating</th>\n",
       "      <th>product</th>\n",
       "      <th>rev_title</th>\n",
       "      <th>rev_body</th>\n",
       "    </tr>\n",
       "  </thead>\n",
       "  <tbody>\n",
       "    <tr>\n",
       "      <th>0</th>\n",
       "      <td>5.0</td>\n",
       "      <td>Oculus Quest 2 — Advanced All-In-One Virtual R...</td>\n",
       "      <td>Initial impressions: Blown away.</td>\n",
       "      <td>WOW. That's my reaction to my first few hours ...</td>\n",
       "    </tr>\n",
       "    <tr>\n",
       "      <th>1</th>\n",
       "      <td>5.0</td>\n",
       "      <td>Oculus Quest 2 — Advanced All-In-One Virtual R...</td>\n",
       "      <td>1st</td>\n",
       "      <td>first</td>\n",
       "    </tr>\n",
       "    <tr>\n",
       "      <th>2</th>\n",
       "      <td>5.0</td>\n",
       "      <td>Oculus Quest 2 — Advanced All-In-One Virtual R...</td>\n",
       "      <td>Extremely impressive, especially for the price</td>\n",
       "      <td>I've owned and tested 15 different VR headsets...</td>\n",
       "    </tr>\n",
       "    <tr>\n",
       "      <th>3</th>\n",
       "      <td>5.0</td>\n",
       "      <td>Oculus Quest 2 — Advanced All-In-One Virtual R...</td>\n",
       "      <td>Switched from PSVR to Oculus Quest 2.  Won't g...</td>\n",
       "      <td>I've owned the PSVR on Playstation since it ca...</td>\n",
       "    </tr>\n",
       "    <tr>\n",
       "      <th>4</th>\n",
       "      <td>5.0</td>\n",
       "      <td>Oculus Quest 2 — Advanced All-In-One Virtual R...</td>\n",
       "      <td>Just amazing!! Wow!!</td>\n",
       "      <td>Your browser does not support HTML5 video.\\n\\n...</td>\n",
       "    </tr>\n",
       "    <tr>\n",
       "      <th>...</th>\n",
       "      <td>...</td>\n",
       "      <td>...</td>\n",
       "      <td>...</td>\n",
       "      <td>...</td>\n",
       "    </tr>\n",
       "    <tr>\n",
       "      <th>275</th>\n",
       "      <td>5.0</td>\n",
       "      <td>Oculus Quest 2 — Advanced All-In-One Virtual R...</td>\n",
       "      <td>Holy Crap!  This is so real!</td>\n",
       "      <td>I am in love!! Thats all i can say!  This thin...</td>\n",
       "    </tr>\n",
       "    <tr>\n",
       "      <th>276</th>\n",
       "      <td>5.0</td>\n",
       "      <td>Oculus Quest 2 — Advanced All-In-One Virtual R...</td>\n",
       "      <td>Great way to get into VR</td>\n",
       "      <td>I have wanted this since before Christmas. I h...</td>\n",
       "    </tr>\n",
       "    <tr>\n",
       "      <th>277</th>\n",
       "      <td>5.0</td>\n",
       "      <td>Oculus Quest 2 — Advanced All-In-One Virtual R...</td>\n",
       "      <td>Amazing headset for an amazing price, just don...</td>\n",
       "      <td>The oculus quest 2 is a really nice headset fo...</td>\n",
       "    </tr>\n",
       "    <tr>\n",
       "      <th>278</th>\n",
       "      <td>5.0</td>\n",
       "      <td>Oculus Quest 2 — Advanced All-In-One Virtual R...</td>\n",
       "      <td>Best Fitness Accessory Ever</td>\n",
       "      <td>I got this for playing games, and ended up get...</td>\n",
       "    </tr>\n",
       "    <tr>\n",
       "      <th>279</th>\n",
       "      <td>5.0</td>\n",
       "      <td>Oculus Quest 2 — Advanced All-In-One Virtual R...</td>\n",
       "      <td>Onece they get a good headstrap it will be the...</td>\n",
       "      <td>I got it as a first VR experience gaming toy. ...</td>\n",
       "    </tr>\n",
       "  </tbody>\n",
       "</table>\n",
       "<p>280 rows × 4 columns</p>\n",
       "</div>"
      ],
      "text/plain": [
       "     rating                                            product  \\\n",
       "0       5.0  Oculus Quest 2 — Advanced All-In-One Virtual R...   \n",
       "1       5.0  Oculus Quest 2 — Advanced All-In-One Virtual R...   \n",
       "2       5.0  Oculus Quest 2 — Advanced All-In-One Virtual R...   \n",
       "3       5.0  Oculus Quest 2 — Advanced All-In-One Virtual R...   \n",
       "4       5.0  Oculus Quest 2 — Advanced All-In-One Virtual R...   \n",
       "..      ...                                                ...   \n",
       "275     5.0  Oculus Quest 2 — Advanced All-In-One Virtual R...   \n",
       "276     5.0  Oculus Quest 2 — Advanced All-In-One Virtual R...   \n",
       "277     5.0  Oculus Quest 2 — Advanced All-In-One Virtual R...   \n",
       "278     5.0  Oculus Quest 2 — Advanced All-In-One Virtual R...   \n",
       "279     5.0  Oculus Quest 2 — Advanced All-In-One Virtual R...   \n",
       "\n",
       "                                             rev_title  \\\n",
       "0                     Initial impressions: Blown away.   \n",
       "1                                                  1st   \n",
       "2       Extremely impressive, especially for the price   \n",
       "3    Switched from PSVR to Oculus Quest 2.  Won't g...   \n",
       "4                                 Just amazing!! Wow!!   \n",
       "..                                                 ...   \n",
       "275                       Holy Crap!  This is so real!   \n",
       "276                           Great way to get into VR   \n",
       "277  Amazing headset for an amazing price, just don...   \n",
       "278                        Best Fitness Accessory Ever   \n",
       "279  Onece they get a good headstrap it will be the...   \n",
       "\n",
       "                                              rev_body  \n",
       "0    WOW. That's my reaction to my first few hours ...  \n",
       "1                                                first  \n",
       "2    I've owned and tested 15 different VR headsets...  \n",
       "3    I've owned the PSVR on Playstation since it ca...  \n",
       "4    Your browser does not support HTML5 video.\\n\\n...  \n",
       "..                                                 ...  \n",
       "275  I am in love!! Thats all i can say!  This thin...  \n",
       "276  I have wanted this since before Christmas. I h...  \n",
       "277  The oculus quest 2 is a really nice headset fo...  \n",
       "278  I got this for playing games, and ended up get...  \n",
       "279  I got it as a first VR experience gaming toy. ...  \n",
       "\n",
       "[280 rows x 4 columns]"
      ]
     },
     "execution_count": 18,
     "metadata": {},
     "output_type": "execute_result"
    }
   ],
   "source": [
    "# Load in the dataframe\n",
    "oc5_df = pd.read_csv(\"oc_5_reviews.csv\")\n",
    "oc5_df"
   ]
  },
  {
   "cell_type": "markdown",
   "metadata": {},
   "source": [
    "# 1 Star Perfume reviews"
   ]
  },
  {
   "cell_type": "code",
   "execution_count": 19,
   "metadata": {},
   "outputs": [
    {
     "data": {
      "text/html": [
       "<div>\n",
       "<style scoped>\n",
       "    .dataframe tbody tr th:only-of-type {\n",
       "        vertical-align: middle;\n",
       "    }\n",
       "\n",
       "    .dataframe tbody tr th {\n",
       "        vertical-align: top;\n",
       "    }\n",
       "\n",
       "    .dataframe thead th {\n",
       "        text-align: right;\n",
       "    }\n",
       "</style>\n",
       "<table border=\"1\" class=\"dataframe\">\n",
       "  <thead>\n",
       "    <tr style=\"text-align: right;\">\n",
       "      <th></th>\n",
       "      <th>rating</th>\n",
       "      <th>product</th>\n",
       "      <th>rev_title</th>\n",
       "      <th>rev_body</th>\n",
       "    </tr>\n",
       "  </thead>\n",
       "  <tbody>\n",
       "    <tr>\n",
       "      <th>0</th>\n",
       "      <td>1.0</td>\n",
       "      <td>Vera Wang Princess Eau de Toilette Spray for W...</td>\n",
       "      <td>Headache From Hell</td>\n",
       "      <td>Almost 10 years ago, this was my FAVORITE perf...</td>\n",
       "    </tr>\n",
       "    <tr>\n",
       "      <th>1</th>\n",
       "      <td>1.0</td>\n",
       "      <td>Vera Wang Princess Eau de Toilette Spray for W...</td>\n",
       "      <td>Horrible</td>\n",
       "      <td>This perfume arrived yesterday. It smells like...</td>\n",
       "    </tr>\n",
       "    <tr>\n",
       "      <th>2</th>\n",
       "      <td>1.0</td>\n",
       "      <td>Vera Wang Princess Eau de Toilette Spray for W...</td>\n",
       "      <td>Fake? Should have went to my local Kohls to pu...</td>\n",
       "      <td>Extremely floral scent. You look at the beauti...</td>\n",
       "    </tr>\n",
       "    <tr>\n",
       "      <th>3</th>\n",
       "      <td>1.0</td>\n",
       "      <td>Vera Wang Princess Eau de Toilette Spray for W...</td>\n",
       "      <td>Does not smell like the real thing.</td>\n",
       "      <td>About three weeks ago, I tried this scent on i...</td>\n",
       "    </tr>\n",
       "    <tr>\n",
       "      <th>4</th>\n",
       "      <td>1.0</td>\n",
       "      <td>Vera Wang Princess Eau de Toilette Spray for W...</td>\n",
       "      <td>Smelled Off</td>\n",
       "      <td>Unfortunately I couldn't use this perfume for ...</td>\n",
       "    </tr>\n",
       "    <tr>\n",
       "      <th>...</th>\n",
       "      <td>...</td>\n",
       "      <td>...</td>\n",
       "      <td>...</td>\n",
       "      <td>...</td>\n",
       "    </tr>\n",
       "    <tr>\n",
       "      <th>275</th>\n",
       "      <td>1.0</td>\n",
       "      <td>Vera Wang Princess Eau de Toilette Spray for W...</td>\n",
       "      <td>One Star</td>\n",
       "      <td>NOT FOR ME</td>\n",
       "    </tr>\n",
       "    <tr>\n",
       "      <th>276</th>\n",
       "      <td>1.0</td>\n",
       "      <td>Vera Wang Princess Eau de Toilette Spray for W...</td>\n",
       "      <td>One Star</td>\n",
       "      <td>Not liking the smell. It's weird. Bath &amp; body ...</td>\n",
       "    </tr>\n",
       "    <tr>\n",
       "      <th>277</th>\n",
       "      <td>1.0</td>\n",
       "      <td>Vera Wang Princess Eau de Toilette Spray for W...</td>\n",
       "      <td>One Star</td>\n",
       "      <td>Good</td>\n",
       "    </tr>\n",
       "    <tr>\n",
       "      <th>278</th>\n",
       "      <td>1.0</td>\n",
       "      <td>Vera Wang Princess Eau de Toilette Spray for W...</td>\n",
       "      <td>for senior citizens</td>\n",
       "      <td>very strong smell, should be titled queen as t...</td>\n",
       "    </tr>\n",
       "    <tr>\n",
       "      <th>279</th>\n",
       "      <td>1.0</td>\n",
       "      <td>Vera Wang Princess Eau de Toilette Spray for W...</td>\n",
       "      <td>Dont buy unless its for your grandmother</td>\n",
       "      <td>This does not smell anything like a floral sce...</td>\n",
       "    </tr>\n",
       "  </tbody>\n",
       "</table>\n",
       "<p>280 rows × 4 columns</p>\n",
       "</div>"
      ],
      "text/plain": [
       "     rating                                            product  \\\n",
       "0       1.0  Vera Wang Princess Eau de Toilette Spray for W...   \n",
       "1       1.0  Vera Wang Princess Eau de Toilette Spray for W...   \n",
       "2       1.0  Vera Wang Princess Eau de Toilette Spray for W...   \n",
       "3       1.0  Vera Wang Princess Eau de Toilette Spray for W...   \n",
       "4       1.0  Vera Wang Princess Eau de Toilette Spray for W...   \n",
       "..      ...                                                ...   \n",
       "275     1.0  Vera Wang Princess Eau de Toilette Spray for W...   \n",
       "276     1.0  Vera Wang Princess Eau de Toilette Spray for W...   \n",
       "277     1.0  Vera Wang Princess Eau de Toilette Spray for W...   \n",
       "278     1.0  Vera Wang Princess Eau de Toilette Spray for W...   \n",
       "279     1.0  Vera Wang Princess Eau de Toilette Spray for W...   \n",
       "\n",
       "                                             rev_title  \\\n",
       "0                                   Headache From Hell   \n",
       "1                                             Horrible   \n",
       "2    Fake? Should have went to my local Kohls to pu...   \n",
       "3                  Does not smell like the real thing.   \n",
       "4                                          Smelled Off   \n",
       "..                                                 ...   \n",
       "275                                           One Star   \n",
       "276                                           One Star   \n",
       "277                                           One Star   \n",
       "278                                for senior citizens   \n",
       "279           Dont buy unless its for your grandmother   \n",
       "\n",
       "                                              rev_body  \n",
       "0    Almost 10 years ago, this was my FAVORITE perf...  \n",
       "1    This perfume arrived yesterday. It smells like...  \n",
       "2    Extremely floral scent. You look at the beauti...  \n",
       "3    About three weeks ago, I tried this scent on i...  \n",
       "4    Unfortunately I couldn't use this perfume for ...  \n",
       "..                                                 ...  \n",
       "275                                         NOT FOR ME  \n",
       "276  Not liking the smell. It's weird. Bath & body ...  \n",
       "277                                               Good  \n",
       "278  very strong smell, should be titled queen as t...  \n",
       "279  This does not smell anything like a floral sce...  \n",
       "\n",
       "[280 rows x 4 columns]"
      ]
     },
     "execution_count": 19,
     "metadata": {},
     "output_type": "execute_result"
    }
   ],
   "source": [
    "# Load in the dataframe\n",
    "per1_df = pd.read_csv(\"perf_1_reviews.csv\")\n",
    "# Check the data frame is correct\n",
    "per1_df\n"
   ]
  },
  {
   "cell_type": "markdown",
   "metadata": {},
   "source": [
    "# 5 Star Perfume reviews"
   ]
  },
  {
   "cell_type": "code",
   "execution_count": 20,
   "metadata": {},
   "outputs": [
    {
     "data": {
      "text/html": [
       "<div>\n",
       "<style scoped>\n",
       "    .dataframe tbody tr th:only-of-type {\n",
       "        vertical-align: middle;\n",
       "    }\n",
       "\n",
       "    .dataframe tbody tr th {\n",
       "        vertical-align: top;\n",
       "    }\n",
       "\n",
       "    .dataframe thead th {\n",
       "        text-align: right;\n",
       "    }\n",
       "</style>\n",
       "<table border=\"1\" class=\"dataframe\">\n",
       "  <thead>\n",
       "    <tr style=\"text-align: right;\">\n",
       "      <th></th>\n",
       "      <th>rating</th>\n",
       "      <th>product</th>\n",
       "      <th>rev_title</th>\n",
       "      <th>rev_body</th>\n",
       "    </tr>\n",
       "  </thead>\n",
       "  <tbody>\n",
       "    <tr>\n",
       "      <th>0</th>\n",
       "      <td>5.0</td>\n",
       "      <td>Vera Wang Princess Eau de Toilette Spray for W...</td>\n",
       "      <td>I was pretty scared to get this from some revi...</td>\n",
       "      <td>I was pretty scared to get this from some revi...</td>\n",
       "    </tr>\n",
       "    <tr>\n",
       "      <th>1</th>\n",
       "      <td>5.0</td>\n",
       "      <td>Vera Wang Princess Eau de Toilette Spray for W...</td>\n",
       "      <td>Bottle is big enough to last you forever! Ligh...</td>\n",
       "      <td>Got this perfume back when it was at Macy’s a ...</td>\n",
       "    </tr>\n",
       "    <tr>\n",
       "      <th>2</th>\n",
       "      <td>5.0</td>\n",
       "      <td>Vera Wang Princess Eau de Toilette Spray for W...</td>\n",
       "      <td>Beautiful perfume.</td>\n",
       "      <td>This is my first time trying the Vera Wang Pri...</td>\n",
       "    </tr>\n",
       "    <tr>\n",
       "      <th>3</th>\n",
       "      <td>5.0</td>\n",
       "      <td>Vera Wang Princess Eau de Toilette Spray for W...</td>\n",
       "      <td>It's vera to me</td>\n",
       "      <td>I dont know about the other reviews saying it'...</td>\n",
       "    </tr>\n",
       "    <tr>\n",
       "      <th>4</th>\n",
       "      <td>5.0</td>\n",
       "      <td>Vera Wang Princess Eau de Toilette Spray for W...</td>\n",
       "      <td>LOVE THE SMELL</td>\n",
       "      <td>I love the warm smell of this perfume! It remi...</td>\n",
       "    </tr>\n",
       "    <tr>\n",
       "      <th>...</th>\n",
       "      <td>...</td>\n",
       "      <td>...</td>\n",
       "      <td>...</td>\n",
       "      <td>...</td>\n",
       "    </tr>\n",
       "    <tr>\n",
       "      <th>295</th>\n",
       "      <td>5.0</td>\n",
       "      <td>Vera Wang Princess Eau de Toilette Spray for W...</td>\n",
       "      <td>Great Item! Shipped fast and arrived fast</td>\n",
       "      <td>Great Item! Shipped fast and arrived fast! Exa...</td>\n",
       "    </tr>\n",
       "    <tr>\n",
       "      <th>296</th>\n",
       "      <td>5.0</td>\n",
       "      <td>Vera Wang Princess Eau de Toilette Spray for W...</td>\n",
       "      <td>YAAAASSSSS HUNNY!</td>\n",
       "      <td>This perfume smells so unique and beautiful. I...</td>\n",
       "    </tr>\n",
       "    <tr>\n",
       "      <th>297</th>\n",
       "      <td>5.0</td>\n",
       "      <td>Vera Wang Princess Eau de Toilette Spray for W...</td>\n",
       "      <td>yummy!</td>\n",
       "      <td>Smells great! Packaging was very good and bott...</td>\n",
       "    </tr>\n",
       "    <tr>\n",
       "      <th>298</th>\n",
       "      <td>5.0</td>\n",
       "      <td>Vera Wang Princess Eau de Toilette Spray for W...</td>\n",
       "      <td>Nice scent. Beautiful bottle</td>\n",
       "      <td>I liked this in every way</td>\n",
       "    </tr>\n",
       "    <tr>\n",
       "      <th>299</th>\n",
       "      <td>5.0</td>\n",
       "      <td>Vera Wang Princess Eau de Toilette Spray for W...</td>\n",
       "      <td>Real deal!</td>\n",
       "      <td>This is real! I love this scent it’s one of my...</td>\n",
       "    </tr>\n",
       "  </tbody>\n",
       "</table>\n",
       "<p>300 rows × 4 columns</p>\n",
       "</div>"
      ],
      "text/plain": [
       "     rating                                            product  \\\n",
       "0       5.0  Vera Wang Princess Eau de Toilette Spray for W...   \n",
       "1       5.0  Vera Wang Princess Eau de Toilette Spray for W...   \n",
       "2       5.0  Vera Wang Princess Eau de Toilette Spray for W...   \n",
       "3       5.0  Vera Wang Princess Eau de Toilette Spray for W...   \n",
       "4       5.0  Vera Wang Princess Eau de Toilette Spray for W...   \n",
       "..      ...                                                ...   \n",
       "295     5.0  Vera Wang Princess Eau de Toilette Spray for W...   \n",
       "296     5.0  Vera Wang Princess Eau de Toilette Spray for W...   \n",
       "297     5.0  Vera Wang Princess Eau de Toilette Spray for W...   \n",
       "298     5.0  Vera Wang Princess Eau de Toilette Spray for W...   \n",
       "299     5.0  Vera Wang Princess Eau de Toilette Spray for W...   \n",
       "\n",
       "                                             rev_title  \\\n",
       "0    I was pretty scared to get this from some revi...   \n",
       "1    Bottle is big enough to last you forever! Ligh...   \n",
       "2                                   Beautiful perfume.   \n",
       "3                                      It's vera to me   \n",
       "4                                       LOVE THE SMELL   \n",
       "..                                                 ...   \n",
       "295          Great Item! Shipped fast and arrived fast   \n",
       "296                                  YAAAASSSSS HUNNY!   \n",
       "297                                             yummy!   \n",
       "298                       Nice scent. Beautiful bottle   \n",
       "299                                         Real deal!   \n",
       "\n",
       "                                              rev_body  \n",
       "0    I was pretty scared to get this from some revi...  \n",
       "1    Got this perfume back when it was at Macy’s a ...  \n",
       "2    This is my first time trying the Vera Wang Pri...  \n",
       "3    I dont know about the other reviews saying it'...  \n",
       "4    I love the warm smell of this perfume! It remi...  \n",
       "..                                                 ...  \n",
       "295  Great Item! Shipped fast and arrived fast! Exa...  \n",
       "296  This perfume smells so unique and beautiful. I...  \n",
       "297  Smells great! Packaging was very good and bott...  \n",
       "298                          I liked this in every way  \n",
       "299  This is real! I love this scent it’s one of my...  \n",
       "\n",
       "[300 rows x 4 columns]"
      ]
     },
     "execution_count": 20,
     "metadata": {},
     "output_type": "execute_result"
    }
   ],
   "source": [
    "# Load in the dataframe\n",
    "per5_df = pd.read_csv(\"perf_5_reviews.csv\")\n",
    "per5_df"
   ]
  },
  {
   "cell_type": "markdown",
   "metadata": {},
   "source": [
    "# Fitbit 1 star reviews"
   ]
  },
  {
   "cell_type": "code",
   "execution_count": 21,
   "metadata": {},
   "outputs": [
    {
     "data": {
      "text/html": [
       "<div>\n",
       "<style scoped>\n",
       "    .dataframe tbody tr th:only-of-type {\n",
       "        vertical-align: middle;\n",
       "    }\n",
       "\n",
       "    .dataframe tbody tr th {\n",
       "        vertical-align: top;\n",
       "    }\n",
       "\n",
       "    .dataframe thead th {\n",
       "        text-align: right;\n",
       "    }\n",
       "</style>\n",
       "<table border=\"1\" class=\"dataframe\">\n",
       "  <thead>\n",
       "    <tr style=\"text-align: right;\">\n",
       "      <th></th>\n",
       "      <th>rating</th>\n",
       "      <th>product</th>\n",
       "      <th>rev_title</th>\n",
       "      <th>rev_body</th>\n",
       "    </tr>\n",
       "  </thead>\n",
       "  <tbody>\n",
       "    <tr>\n",
       "      <th>0</th>\n",
       "      <td>1.0</td>\n",
       "      <td>Fitbit Inspire 2 Health &amp; Fitness Tracker with...</td>\n",
       "      <td>Buzzes too much :/</td>\n",
       "      <td>Pros:-HR seems very accurate-I love almost all...</td>\n",
       "    </tr>\n",
       "    <tr>\n",
       "      <th>1</th>\n",
       "      <td>1.0</td>\n",
       "      <td>Fitbit Inspire 2 Health &amp; Fitness Tracker with...</td>\n",
       "      <td>If you're looking for a minimalist activity tr...</td>\n",
       "      <td>I chose the Inspire 2 because it was the botto...</td>\n",
       "    </tr>\n",
       "    <tr>\n",
       "      <th>2</th>\n",
       "      <td>1.0</td>\n",
       "      <td>Fitbit Inspire 2 Health &amp; Fitness Tracker with...</td>\n",
       "      <td>Disappointing</td>\n",
       "      <td>Very disappointed. Have the Alta hr and love i...</td>\n",
       "    </tr>\n",
       "    <tr>\n",
       "      <th>3</th>\n",
       "      <td>1.0</td>\n",
       "      <td>Fitbit Inspire 2 Health &amp; Fitness Tracker with...</td>\n",
       "      <td>Beware, you may not get your FitBit Premium Trial</td>\n",
       "      <td>I upgraded from the Inspire HR because the 12 ...</td>\n",
       "    </tr>\n",
       "    <tr>\n",
       "      <th>4</th>\n",
       "      <td>1.0</td>\n",
       "      <td>Fitbit Inspire 2 Health &amp; Fitness Tracker with...</td>\n",
       "      <td>It works so intermittently it feels like an un...</td>\n",
       "      <td>I've had two other Fitbits, the Flex 2 and the...</td>\n",
       "    </tr>\n",
       "    <tr>\n",
       "      <th>...</th>\n",
       "      <td>...</td>\n",
       "      <td>...</td>\n",
       "      <td>...</td>\n",
       "      <td>...</td>\n",
       "    </tr>\n",
       "    <tr>\n",
       "      <th>295</th>\n",
       "      <td>1.0</td>\n",
       "      <td>Fitbit Inspire 2 Health &amp; Fitness Tracker with...</td>\n",
       "      <td>Gave as a gift and stopped working within a mo...</td>\n",
       "      <td>Gave as a gift and stopped working within a mo...</td>\n",
       "    </tr>\n",
       "    <tr>\n",
       "      <th>296</th>\n",
       "      <td>1.0</td>\n",
       "      <td>Fitbit Inspire 2 Health &amp; Fitness Tracker with...</td>\n",
       "      <td>should have bought the apple watch</td>\n",
       "      <td>confusing set-up with no on-line support</td>\n",
       "    </tr>\n",
       "    <tr>\n",
       "      <th>297</th>\n",
       "      <td>1.0</td>\n",
       "      <td>Fitbit Inspire 2 Health &amp; Fitness Tracker with...</td>\n",
       "      <td>STOPPED WORKING AFTER 2 WEEKS</td>\n",
       "      <td>VERY DISGRUNTLED WITH PRODUCT AFTER CHARGE 3 S...</td>\n",
       "    </tr>\n",
       "    <tr>\n",
       "      <th>298</th>\n",
       "      <td>1.0</td>\n",
       "      <td>Fitbit Inspire 2 Health &amp; Fitness Tracker with...</td>\n",
       "      <td>Don't buy</td>\n",
       "      <td>Great INDOOR watch and tracker.  Unable to rea...</td>\n",
       "    </tr>\n",
       "    <tr>\n",
       "      <th>299</th>\n",
       "      <td>1.0</td>\n",
       "      <td>Fitbit Inspire 2 Health &amp; Fitness Tracker with...</td>\n",
       "      <td>Poor battery life.</td>\n",
       "      <td>Disappointed in the battery life. Needs to be ...</td>\n",
       "    </tr>\n",
       "  </tbody>\n",
       "</table>\n",
       "<p>300 rows × 4 columns</p>\n",
       "</div>"
      ],
      "text/plain": [
       "     rating                                            product  \\\n",
       "0       1.0  Fitbit Inspire 2 Health & Fitness Tracker with...   \n",
       "1       1.0  Fitbit Inspire 2 Health & Fitness Tracker with...   \n",
       "2       1.0  Fitbit Inspire 2 Health & Fitness Tracker with...   \n",
       "3       1.0  Fitbit Inspire 2 Health & Fitness Tracker with...   \n",
       "4       1.0  Fitbit Inspire 2 Health & Fitness Tracker with...   \n",
       "..      ...                                                ...   \n",
       "295     1.0  Fitbit Inspire 2 Health & Fitness Tracker with...   \n",
       "296     1.0  Fitbit Inspire 2 Health & Fitness Tracker with...   \n",
       "297     1.0  Fitbit Inspire 2 Health & Fitness Tracker with...   \n",
       "298     1.0  Fitbit Inspire 2 Health & Fitness Tracker with...   \n",
       "299     1.0  Fitbit Inspire 2 Health & Fitness Tracker with...   \n",
       "\n",
       "                                             rev_title  \\\n",
       "0                                   Buzzes too much :/   \n",
       "1    If you're looking for a minimalist activity tr...   \n",
       "2                                        Disappointing   \n",
       "3    Beware, you may not get your FitBit Premium Trial   \n",
       "4    It works so intermittently it feels like an un...   \n",
       "..                                                 ...   \n",
       "295  Gave as a gift and stopped working within a mo...   \n",
       "296                 should have bought the apple watch   \n",
       "297                      STOPPED WORKING AFTER 2 WEEKS   \n",
       "298                                          Don't buy   \n",
       "299                                 Poor battery life.   \n",
       "\n",
       "                                              rev_body  \n",
       "0    Pros:-HR seems very accurate-I love almost all...  \n",
       "1    I chose the Inspire 2 because it was the botto...  \n",
       "2    Very disappointed. Have the Alta hr and love i...  \n",
       "3    I upgraded from the Inspire HR because the 12 ...  \n",
       "4    I've had two other Fitbits, the Flex 2 and the...  \n",
       "..                                                 ...  \n",
       "295  Gave as a gift and stopped working within a mo...  \n",
       "296           confusing set-up with no on-line support  \n",
       "297  VERY DISGRUNTLED WITH PRODUCT AFTER CHARGE 3 S...  \n",
       "298  Great INDOOR watch and tracker.  Unable to rea...  \n",
       "299  Disappointed in the battery life. Needs to be ...  \n",
       "\n",
       "[300 rows x 4 columns]"
      ]
     },
     "execution_count": 21,
     "metadata": {},
     "output_type": "execute_result"
    }
   ],
   "source": [
    "# Load in the dataframe\n",
    "fit1_df = pd.read_csv(\"fitbit_1_reviews.csv\")\n",
    "# Check the data frame is correct\n",
    "fit1_df"
   ]
  },
  {
   "cell_type": "markdown",
   "metadata": {},
   "source": [
    "# Fitbit 5 star reviews"
   ]
  },
  {
   "cell_type": "code",
   "execution_count": 22,
   "metadata": {},
   "outputs": [
    {
     "data": {
      "text/html": [
       "<div>\n",
       "<style scoped>\n",
       "    .dataframe tbody tr th:only-of-type {\n",
       "        vertical-align: middle;\n",
       "    }\n",
       "\n",
       "    .dataframe tbody tr th {\n",
       "        vertical-align: top;\n",
       "    }\n",
       "\n",
       "    .dataframe thead th {\n",
       "        text-align: right;\n",
       "    }\n",
       "</style>\n",
       "<table border=\"1\" class=\"dataframe\">\n",
       "  <thead>\n",
       "    <tr style=\"text-align: right;\">\n",
       "      <th></th>\n",
       "      <th>rating</th>\n",
       "      <th>product</th>\n",
       "      <th>rev_title</th>\n",
       "      <th>rev_body</th>\n",
       "    </tr>\n",
       "  </thead>\n",
       "  <tbody>\n",
       "    <tr>\n",
       "      <th>0</th>\n",
       "      <td>5.0</td>\n",
       "      <td>Fitbit Inspire 2 Health &amp; Fitness Tracker with...</td>\n",
       "      <td>wonderful tech</td>\n",
       "      <td>I'm really sad that this Inspire 2 is catching...</td>\n",
       "    </tr>\n",
       "    <tr>\n",
       "      <th>1</th>\n",
       "      <td>5.0</td>\n",
       "      <td>Fitbit Inspire 2 Health &amp; Fitness Tracker with...</td>\n",
       "      <td>Charge 2 HR vs. Inspire 2</td>\n",
       "      <td>My four year old Charge 2 HR battery was getti...</td>\n",
       "    </tr>\n",
       "    <tr>\n",
       "      <th>2</th>\n",
       "      <td>5.0</td>\n",
       "      <td>Fitbit Inspire 2 Health &amp; Fitness Tracker with...</td>\n",
       "      <td>Great Purchase for My Health!</td>\n",
       "      <td>I am very happy with this Fitbit. I was a litt...</td>\n",
       "    </tr>\n",
       "    <tr>\n",
       "      <th>3</th>\n",
       "      <td>5.0</td>\n",
       "      <td>Fitbit Inspire 2 Health &amp; Fitness Tracker with...</td>\n",
       "      <td>Love my Fitbit Inspire!!!</td>\n",
       "      <td>I was worried about all the reviews that menti...</td>\n",
       "    </tr>\n",
       "    <tr>\n",
       "      <th>4</th>\n",
       "      <td>5.0</td>\n",
       "      <td>Fitbit Inspire 2 Health &amp; Fitness Tracker with...</td>\n",
       "      <td>Perfect Upgrade!</td>\n",
       "      <td>I decided to get this after my Alta HR finally...</td>\n",
       "    </tr>\n",
       "    <tr>\n",
       "      <th>...</th>\n",
       "      <td>...</td>\n",
       "      <td>...</td>\n",
       "      <td>...</td>\n",
       "      <td>...</td>\n",
       "    </tr>\n",
       "    <tr>\n",
       "      <th>295</th>\n",
       "      <td>5.0</td>\n",
       "      <td>Fitbit Inspire 2 Health &amp; Fitness Tracker with...</td>\n",
       "      <td>Love it</td>\n",
       "      <td>Love it I’ve tried the iwatch, and other track...</td>\n",
       "    </tr>\n",
       "    <tr>\n",
       "      <th>296</th>\n",
       "      <td>5.0</td>\n",
       "      <td>Fitbit Inspire 2 Health &amp; Fitness Tracker with...</td>\n",
       "      <td>Great!</td>\n",
       "      <td>Love it. Takes a few days to get used to it bu...</td>\n",
       "    </tr>\n",
       "    <tr>\n",
       "      <th>297</th>\n",
       "      <td>5.0</td>\n",
       "      <td>Fitbit Inspire 2 Health &amp; Fitness Tracker with...</td>\n",
       "      <td>A gift for people wanting to improve their wel...</td>\n",
       "      <td>I am really enjoying my Fitbit. It is helping ...</td>\n",
       "    </tr>\n",
       "    <tr>\n",
       "      <th>298</th>\n",
       "      <td>5.0</td>\n",
       "      <td>Fitbit Inspire 2 Health &amp; Fitness Tracker with...</td>\n",
       "      <td>Love it</td>\n",
       "      <td>Great design, very accurate, stylish.  The ban...</td>\n",
       "    </tr>\n",
       "    <tr>\n",
       "      <th>299</th>\n",
       "      <td>5.0</td>\n",
       "      <td>Fitbit Inspire 2 Health &amp; Fitness Tracker with...</td>\n",
       "      <td>Fitbit Apo</td>\n",
       "      <td>The fitbit app is super easy to use. It keeps ...</td>\n",
       "    </tr>\n",
       "  </tbody>\n",
       "</table>\n",
       "<p>300 rows × 4 columns</p>\n",
       "</div>"
      ],
      "text/plain": [
       "     rating                                            product  \\\n",
       "0       5.0  Fitbit Inspire 2 Health & Fitness Tracker with...   \n",
       "1       5.0  Fitbit Inspire 2 Health & Fitness Tracker with...   \n",
       "2       5.0  Fitbit Inspire 2 Health & Fitness Tracker with...   \n",
       "3       5.0  Fitbit Inspire 2 Health & Fitness Tracker with...   \n",
       "4       5.0  Fitbit Inspire 2 Health & Fitness Tracker with...   \n",
       "..      ...                                                ...   \n",
       "295     5.0  Fitbit Inspire 2 Health & Fitness Tracker with...   \n",
       "296     5.0  Fitbit Inspire 2 Health & Fitness Tracker with...   \n",
       "297     5.0  Fitbit Inspire 2 Health & Fitness Tracker with...   \n",
       "298     5.0  Fitbit Inspire 2 Health & Fitness Tracker with...   \n",
       "299     5.0  Fitbit Inspire 2 Health & Fitness Tracker with...   \n",
       "\n",
       "                                             rev_title  \\\n",
       "0                                       wonderful tech   \n",
       "1                            Charge 2 HR vs. Inspire 2   \n",
       "2                        Great Purchase for My Health!   \n",
       "3                            Love my Fitbit Inspire!!!   \n",
       "4                                     Perfect Upgrade!   \n",
       "..                                                 ...   \n",
       "295                                            Love it   \n",
       "296                                             Great!   \n",
       "297  A gift for people wanting to improve their wel...   \n",
       "298                                            Love it   \n",
       "299                                         Fitbit Apo   \n",
       "\n",
       "                                              rev_body  \n",
       "0    I'm really sad that this Inspire 2 is catching...  \n",
       "1    My four year old Charge 2 HR battery was getti...  \n",
       "2    I am very happy with this Fitbit. I was a litt...  \n",
       "3    I was worried about all the reviews that menti...  \n",
       "4    I decided to get this after my Alta HR finally...  \n",
       "..                                                 ...  \n",
       "295  Love it I’ve tried the iwatch, and other track...  \n",
       "296  Love it. Takes a few days to get used to it bu...  \n",
       "297  I am really enjoying my Fitbit. It is helping ...  \n",
       "298  Great design, very accurate, stylish.  The ban...  \n",
       "299  The fitbit app is super easy to use. It keeps ...  \n",
       "\n",
       "[300 rows x 4 columns]"
      ]
     },
     "execution_count": 22,
     "metadata": {},
     "output_type": "execute_result"
    }
   ],
   "source": [
    "# Load in the dataframe\n",
    "fit5_df = pd.read_csv(\"fitbit_5_reviews.csv\")\n",
    "# Check the data frame is correct\n",
    "fit5_df"
   ]
  },
  {
   "cell_type": "markdown",
   "metadata": {},
   "source": [
    "# Combining all 1 star and 5 star reviews into two data frames to examine\n",
    "\n",
    "I made two to analyze and compare, neg_df for all negative reviews, and pos_df for all positive reviews. "
   ]
  },
  {
   "cell_type": "markdown",
   "metadata": {},
   "source": [
    "## The Negative Reviews"
   ]
  },
  {
   "cell_type": "code",
   "execution_count": 23,
   "metadata": {},
   "outputs": [
    {
     "data": {
      "text/html": [
       "<div>\n",
       "<style scoped>\n",
       "    .dataframe tbody tr th:only-of-type {\n",
       "        vertical-align: middle;\n",
       "    }\n",
       "\n",
       "    .dataframe tbody tr th {\n",
       "        vertical-align: top;\n",
       "    }\n",
       "\n",
       "    .dataframe thead th {\n",
       "        text-align: right;\n",
       "    }\n",
       "</style>\n",
       "<table border=\"1\" class=\"dataframe\">\n",
       "  <thead>\n",
       "    <tr style=\"text-align: right;\">\n",
       "      <th></th>\n",
       "      <th>rating</th>\n",
       "      <th>product</th>\n",
       "      <th>rev_title</th>\n",
       "      <th>rev_body</th>\n",
       "    </tr>\n",
       "  </thead>\n",
       "  <tbody>\n",
       "    <tr>\n",
       "      <th>0</th>\n",
       "      <td>1.0</td>\n",
       "      <td>Fitbit Inspire 2 Health &amp; Fitness Tracker with...</td>\n",
       "      <td>Buzzes too much :/</td>\n",
       "      <td>Pros:-HR seems very accurate-I love almost all...</td>\n",
       "    </tr>\n",
       "    <tr>\n",
       "      <th>1</th>\n",
       "      <td>1.0</td>\n",
       "      <td>Fitbit Inspire 2 Health &amp; Fitness Tracker with...</td>\n",
       "      <td>If you're looking for a minimalist activity tr...</td>\n",
       "      <td>I chose the Inspire 2 because it was the botto...</td>\n",
       "    </tr>\n",
       "    <tr>\n",
       "      <th>2</th>\n",
       "      <td>1.0</td>\n",
       "      <td>Fitbit Inspire 2 Health &amp; Fitness Tracker with...</td>\n",
       "      <td>Disappointing</td>\n",
       "      <td>Very disappointed. Have the Alta hr and love i...</td>\n",
       "    </tr>\n",
       "    <tr>\n",
       "      <th>3</th>\n",
       "      <td>1.0</td>\n",
       "      <td>Fitbit Inspire 2 Health &amp; Fitness Tracker with...</td>\n",
       "      <td>Beware, you may not get your FitBit Premium Trial</td>\n",
       "      <td>I upgraded from the Inspire HR because the 12 ...</td>\n",
       "    </tr>\n",
       "    <tr>\n",
       "      <th>4</th>\n",
       "      <td>1.0</td>\n",
       "      <td>Fitbit Inspire 2 Health &amp; Fitness Tracker with...</td>\n",
       "      <td>It works so intermittently it feels like an un...</td>\n",
       "      <td>I've had two other Fitbits, the Flex 2 and the...</td>\n",
       "    </tr>\n",
       "    <tr>\n",
       "      <th>...</th>\n",
       "      <td>...</td>\n",
       "      <td>...</td>\n",
       "      <td>...</td>\n",
       "      <td>...</td>\n",
       "    </tr>\n",
       "    <tr>\n",
       "      <th>295</th>\n",
       "      <td>1.0</td>\n",
       "      <td>Oculus Quest 2 — Advanced All-In-One Virtual R...</td>\n",
       "      <td>Dont buy it here!</td>\n",
       "      <td>The product was dirty the batteries doesn't la...</td>\n",
       "    </tr>\n",
       "    <tr>\n",
       "      <th>296</th>\n",
       "      <td>1.0</td>\n",
       "      <td>Oculus Quest 2 — Advanced All-In-One Virtual R...</td>\n",
       "      <td>Can’t see</td>\n",
       "      <td>Got it from Best Buy, I can’t see through the ...</td>\n",
       "    </tr>\n",
       "    <tr>\n",
       "      <th>297</th>\n",
       "      <td>1.0</td>\n",
       "      <td>Oculus Quest 2 — Advanced All-In-One Virtual R...</td>\n",
       "      <td>Really disappointed</td>\n",
       "      <td>Fan came defective, link doesn't work properly...</td>\n",
       "    </tr>\n",
       "    <tr>\n",
       "      <th>298</th>\n",
       "      <td>1.0</td>\n",
       "      <td>Oculus Quest 2 — Advanced All-In-One Virtual R...</td>\n",
       "      <td>Incorrect advertisement</td>\n",
       "      <td>When purchased the description did not specify...</td>\n",
       "    </tr>\n",
       "    <tr>\n",
       "      <th>299</th>\n",
       "      <td>1.0</td>\n",
       "      <td>Oculus Quest 2 — Advanced All-In-One Virtual R...</td>\n",
       "      <td>What happened to Next VR?</td>\n",
       "      <td>I used to watch NBA and other sports in VR on ...</td>\n",
       "    </tr>\n",
       "  </tbody>\n",
       "</table>\n",
       "<p>880 rows × 4 columns</p>\n",
       "</div>"
      ],
      "text/plain": [
       "     rating                                            product  \\\n",
       "0       1.0  Fitbit Inspire 2 Health & Fitness Tracker with...   \n",
       "1       1.0  Fitbit Inspire 2 Health & Fitness Tracker with...   \n",
       "2       1.0  Fitbit Inspire 2 Health & Fitness Tracker with...   \n",
       "3       1.0  Fitbit Inspire 2 Health & Fitness Tracker with...   \n",
       "4       1.0  Fitbit Inspire 2 Health & Fitness Tracker with...   \n",
       "..      ...                                                ...   \n",
       "295     1.0  Oculus Quest 2 — Advanced All-In-One Virtual R...   \n",
       "296     1.0  Oculus Quest 2 — Advanced All-In-One Virtual R...   \n",
       "297     1.0  Oculus Quest 2 — Advanced All-In-One Virtual R...   \n",
       "298     1.0  Oculus Quest 2 — Advanced All-In-One Virtual R...   \n",
       "299     1.0  Oculus Quest 2 — Advanced All-In-One Virtual R...   \n",
       "\n",
       "                                             rev_title  \\\n",
       "0                                   Buzzes too much :/   \n",
       "1    If you're looking for a minimalist activity tr...   \n",
       "2                                        Disappointing   \n",
       "3    Beware, you may not get your FitBit Premium Trial   \n",
       "4    It works so intermittently it feels like an un...   \n",
       "..                                                 ...   \n",
       "295                                  Dont buy it here!   \n",
       "296                                          Can’t see   \n",
       "297                                Really disappointed   \n",
       "298                            Incorrect advertisement   \n",
       "299                          What happened to Next VR?   \n",
       "\n",
       "                                              rev_body  \n",
       "0    Pros:-HR seems very accurate-I love almost all...  \n",
       "1    I chose the Inspire 2 because it was the botto...  \n",
       "2    Very disappointed. Have the Alta hr and love i...  \n",
       "3    I upgraded from the Inspire HR because the 12 ...  \n",
       "4    I've had two other Fitbits, the Flex 2 and the...  \n",
       "..                                                 ...  \n",
       "295  The product was dirty the batteries doesn't la...  \n",
       "296  Got it from Best Buy, I can’t see through the ...  \n",
       "297  Fan came defective, link doesn't work properly...  \n",
       "298  When purchased the description did not specify...  \n",
       "299  I used to watch NBA and other sports in VR on ...  \n",
       "\n",
       "[880 rows x 4 columns]"
      ]
     },
     "execution_count": 23,
     "metadata": {},
     "output_type": "execute_result"
    }
   ],
   "source": [
    "neg_df = pd.concat([fit1_df, per1_df, oc1_df])\n",
    "\n",
    "neg_df"
   ]
  },
  {
   "cell_type": "markdown",
   "metadata": {},
   "source": [
    "At this point I see that I am missing a few reviews, but I decide not to keep scraping as I don't want to use too much of Amazon's resources. If the second postive dataframe has a different number, then I will manually remove them."
   ]
  },
  {
   "cell_type": "markdown",
   "metadata": {},
   "source": [
    "## Join all negative review text into one large text\n",
    "\n",
    "First I joined all the reviews together and looked at how many total character were used and store that number in a variable, oneStarchar."
   ]
  },
  {
   "cell_type": "code",
   "execution_count": 24,
   "metadata": {},
   "outputs": [
    {
     "name": "stdout",
     "output_type": "stream",
     "text": [
      "The total number of characters used in 1 star reviews are:  301833\n"
     ]
    }
   ],
   "source": [
    "# join all the reviews together and coount the total number of characters\n",
    "neg_text = \" \".join(review for review in neg_df.rev_body)\n",
    "\n",
    "oneStarChar = len(neg_text)\n",
    "print(\"The total number of characters used in 1 star reviews are: \",oneStarChar )"
   ]
  },
  {
   "cell_type": "markdown",
   "metadata": {},
   "source": [
    "Now that we have that, lets make a word cloud and see what words people most used to describe it. It may not give us a clear idea of the energy they put in, but maybe we will see something intersting."
   ]
  },
  {
   "cell_type": "markdown",
   "metadata": {},
   "source": [
    "# WordCloud of all negative reviews"
   ]
  },
  {
   "cell_type": "code",
   "execution_count": 25,
   "metadata": {},
   "outputs": [
    {
     "data": {
      "image/png": "[encoded data removed]",
      "text/plain": [
       "<Figure size 432x288 with 1 Axes>"
      ]
     },
     "metadata": {
      "needs_background": "light"
     },
     "output_type": "display_data"
    }
   ],
   "source": [
    "# Wordcloud to get an idea of the words associated with these reviews\n",
    "# Create stopword list:\n",
    "stopwords = set(STOPWORDS)\n",
    "\n",
    "# Generate a word cloud image\n",
    "wordcloud = WordCloud(stopwords=stopwords, background_color=\"white\").generate(neg_text)\n",
    "\n",
    "# Display the generated image:\n",
    "plt.imshow(wordcloud, interpolation='bilinear')\n",
    "plt.axis(\"off\")\n",
    "plt.show()"
   ]
  },
  {
   "cell_type": "markdown",
   "metadata": {},
   "source": [
    "As we can see there are a lot of mentions of the products themselves, so lets try this again removing the words that have the product names in them,"
   ]
  },
  {
   "cell_type": "code",
   "execution_count": 26,
   "metadata": {},
   "outputs": [
    {
     "data": {
      "image/png": "[encoded data removed]",
      "text/plain": [
       "<Figure size 432x288 with 1 Axes>"
      ]
     },
     "metadata": {
      "needs_background": "light"
     },
     "output_type": "display_data"
    }
   ],
   "source": [
    "# Wordcloud to get an idea of the words associated with these reviews\n",
    "# Create stopword list:\n",
    "stopwords = set(STOPWORDS)\n",
    "stopwords.update([\"oculus\", \"quest\", \"facebook\", \"Fitbit\", \"one\", \"product\"])\n",
    "\n",
    "# Generate a word cloud image\n",
    "wordcloud = WordCloud(stopwords=stopwords, background_color=\"white\").generate(neg_text)\n",
    "\n",
    "# Display the generated image:\n",
    "plt.imshow(wordcloud, interpolation='bilinear')\n",
    "plt.axis(\"off\")\n",
    "plt.show()"
   ]
  },
  {
   "cell_type": "markdown",
   "metadata": {},
   "source": [
    "Now we can see some more words, like \"smell\" and \"account\" but so far nothing that jumps out at me. Next like try tokenizing the words and seeing how many words were used and save that number in a variable oneStar_word_count."
   ]
  },
  {
   "cell_type": "markdown",
   "metadata": {},
   "source": [
    "# Tokenize the review words"
   ]
  },
  {
   "cell_type": "code",
   "execution_count": 27,
   "metadata": {},
   "outputs": [
    {
     "name": "stdout",
     "output_type": "stream",
     "text": [
      "The total number of words used in one star reviews are: 63812\n"
     ]
    }
   ],
   "source": [
    "#Tokenize the words and see the updated coount total\n",
    "tokens = word_tokenize(neg_text)\n",
    "oneStar_word_count = len(tokens)\n",
    "print(\"The total number of words used in one star reviews are:\", oneStar_word_count)"
   ]
  },
  {
   "cell_type": "markdown",
   "metadata": {},
   "source": [
    "Next I would like to take a look at the most commonly used words to see if anything intersting pops out. "
   ]
  },
  {
   "cell_type": "code",
   "execution_count": 28,
   "metadata": {},
   "outputs": [
    {
     "data": {
      "image/png": "[encoded data removed]",
      "text/plain": [
       "<Figure size 432x288 with 1 Axes>"
      ]
     },
     "metadata": {
      "needs_background": "light"
     },
     "output_type": "display_data"
    },
    {
     "data": {
      "text/plain": [
       "<AxesSubplot:xlabel='Samples', ylabel='Counts'>"
      ]
     },
     "execution_count": 28,
     "metadata": {},
     "output_type": "execute_result"
    }
   ],
   "source": [
    "# a list of the filtered sentences\n",
    "filtered_sentence = [] \n",
    "\n",
    "for a in tokens:\n",
    "    if a not in stopwords:\n",
    "        filtered_sentence.append(a)\n",
    "\n",
    "        \n",
    "\n",
    "#Check filtered distrobution \n",
    "\n",
    "# Updated word refrequency and graph with filtered words removed\n",
    "freq_of_words = nltk.FreqDist(filtered_sentence)\n",
    "freq_of_words.plot(30)"
   ]
  },
  {
   "cell_type": "markdown",
   "metadata": {},
   "source": [
    "There still seems to be some noise words in there, so lets extend the stopwords corpus to clear it out."
   ]
  },
  {
   "cell_type": "code",
   "execution_count": 29,
   "metadata": {},
   "outputs": [
    {
     "data": {
      "image/png": "[encoded data removed]",
      "text/plain": [
       "<Figure size 432x288 with 1 Axes>"
      ]
     },
     "metadata": {
      "needs_background": "light"
     },
     "output_type": "display_data"
    },
    {
     "data": {
      "text/plain": [
       "<AxesSubplot:xlabel='Samples', ylabel='Counts'>"
      ]
     },
     "execution_count": 29,
     "metadata": {},
     "output_type": "execute_result"
    }
   ],
   "source": [
    "new_stopwords = ['.', \"n't\", 'The', 'It', '2', '(', ')', 't', 'Oculus', 'This'] # made an array of new stop words\n",
    "\n",
    "custom_remove = nltk.corpus.stopwords.words('english') # defined stpword as the stopwords corpus\n",
    "custom_remove.extend(new_stopwords) # extended the list\n",
    "\n",
    "  \n",
    "filtered_sentence = [] \n",
    "\n",
    "for a in tokens:\n",
    "    if a not in custom_remove:\n",
    "        filtered_sentence.append(a)\n",
    "      \n",
    "\n",
    "    \n",
    "\n",
    "#Check filtered distrobution \n",
    "\n",
    "# Updated word refrequency and graph with filtered words removed\n",
    "freq_of_words = nltk.FreqDist(filtered_sentence)\n",
    "freq_of_words.plot(30)"
   ]
  },
  {
   "cell_type": "markdown",
   "metadata": {},
   "source": [
    "Hmm, We have a bit clearer picture, but nothing crazy is jumping out. Next lets see how negative the score in the sentiment analysis is. The one intersting thing is it seems the exclamation mark is pretty high up there, so a small signal that these reviews were emotionally charged maybe? Lets keep digging."
   ]
  },
  {
   "cell_type": "markdown",
   "metadata": {},
   "source": [
    "# The polarity scores, keyboard energy and total words used\n",
    "For the next part, in order to use the Sentiment Analyzer that is built into the nltk library, I need to download the \" Vader Lexicon\" ( Cool name no? ) and import the Sentiment Intensity Analyzer. \n",
    "\n",
    "Whew that last import is quite the mouthful, so I assign it a variable, 'sia' for short."
   ]
  },
  {
   "cell_type": "code",
   "execution_count": 30,
   "metadata": {},
   "outputs": [
    {
     "name": "stderr",
     "output_type": "stream",
     "text": [
      "[nltk_data] Downloading package vader_lexicon to\n",
      "[nltk_data]     /Users/brandongodbold/nltk_data...\n",
      "[nltk_data]   Package vader_lexicon is already up-to-date!\n"
     ]
    }
   ],
   "source": [
    "nltk.download('vader_lexicon')\n",
    "from nltk.sentiment import SentimentIntensityAnalyzer\n",
    "sia = SentimentIntensityAnalyzer()"
   ]
  },
  {
   "cell_type": "markdown",
   "metadata": {},
   "source": [
    "Now that we have downloaded the sentiment intensity analyzer, lets see the polaroty scores of the one stars and save that to a variable, neg_dict. We are only intersted in the 'neg' score, but I'll have a look at all of them just to see whats there."
   ]
  },
  {
   "cell_type": "code",
   "execution_count": 31,
   "metadata": {},
   "outputs": [
    {
     "data": {
      "text/plain": [
       "{'neg': 0.1, 'neu': 0.79, 'pos': 0.11, 'compound': 0.9999}"
      ]
     },
     "execution_count": 31,
     "metadata": {},
     "output_type": "execute_result"
    }
   ],
   "source": [
    "sia.polarity_scores(neg_text)\n",
    "neg_dict = sia.polarity_scores(neg_text)\n",
    "neg_dict"
   ]
  },
  {
   "cell_type": "markdown",
   "metadata": {},
   "source": [
    "We can see the negative score was slightly lower than the postive one, even though it was from negative reviews. Later we will compare everything in one chart in the summary to view easily, but next lets look at my custom metric \" key energy \" which is the number of characters divided by the number of words."
   ]
  },
  {
   "cell_type": "code",
   "execution_count": 32,
   "metadata": {},
   "outputs": [
    {
     "name": "stdout",
     "output_type": "stream",
     "text": [
      "4.7300351031154015\n"
     ]
    }
   ],
   "source": [
    "neg_key_energy = oneStarChar / oneStar_word_count\n",
    "print(neg_key_energy)"
   ]
  },
  {
   "cell_type": "markdown",
   "metadata": {},
   "source": [
    "Ok now we have a ratio to show how many words versus characters were used. I chose this as when writing I made the assumption due to the fact that when we are emotionally charged we tend to use the prefrontal cortex less[3] and possbile more shorter words and symbols. The higher number should indicate bigger words used. By itself it doesn't tell us too much, but we will save it and compare it to the postive reviews later."
   ]
  },
  {
   "cell_type": "markdown",
   "metadata": {},
   "source": [
    "## The positive reviews"
   ]
  },
  {
   "cell_type": "code",
   "execution_count": 33,
   "metadata": {},
   "outputs": [
    {
     "data": {
      "text/html": [
       "<div>\n",
       "<style scoped>\n",
       "    .dataframe tbody tr th:only-of-type {\n",
       "        vertical-align: middle;\n",
       "    }\n",
       "\n",
       "    .dataframe tbody tr th {\n",
       "        vertical-align: top;\n",
       "    }\n",
       "\n",
       "    .dataframe thead th {\n",
       "        text-align: right;\n",
       "    }\n",
       "</style>\n",
       "<table border=\"1\" class=\"dataframe\">\n",
       "  <thead>\n",
       "    <tr style=\"text-align: right;\">\n",
       "      <th></th>\n",
       "      <th>rating</th>\n",
       "      <th>product</th>\n",
       "      <th>rev_title</th>\n",
       "      <th>rev_body</th>\n",
       "    </tr>\n",
       "  </thead>\n",
       "  <tbody>\n",
       "    <tr>\n",
       "      <th>0</th>\n",
       "      <td>5.0</td>\n",
       "      <td>Fitbit Inspire 2 Health &amp; Fitness Tracker with...</td>\n",
       "      <td>wonderful tech</td>\n",
       "      <td>I'm really sad that this Inspire 2 is catching...</td>\n",
       "    </tr>\n",
       "    <tr>\n",
       "      <th>1</th>\n",
       "      <td>5.0</td>\n",
       "      <td>Fitbit Inspire 2 Health &amp; Fitness Tracker with...</td>\n",
       "      <td>Charge 2 HR vs. Inspire 2</td>\n",
       "      <td>My four year old Charge 2 HR battery was getti...</td>\n",
       "    </tr>\n",
       "    <tr>\n",
       "      <th>2</th>\n",
       "      <td>5.0</td>\n",
       "      <td>Fitbit Inspire 2 Health &amp; Fitness Tracker with...</td>\n",
       "      <td>Great Purchase for My Health!</td>\n",
       "      <td>I am very happy with this Fitbit. I was a litt...</td>\n",
       "    </tr>\n",
       "    <tr>\n",
       "      <th>3</th>\n",
       "      <td>5.0</td>\n",
       "      <td>Fitbit Inspire 2 Health &amp; Fitness Tracker with...</td>\n",
       "      <td>Love my Fitbit Inspire!!!</td>\n",
       "      <td>I was worried about all the reviews that menti...</td>\n",
       "    </tr>\n",
       "    <tr>\n",
       "      <th>4</th>\n",
       "      <td>5.0</td>\n",
       "      <td>Fitbit Inspire 2 Health &amp; Fitness Tracker with...</td>\n",
       "      <td>Perfect Upgrade!</td>\n",
       "      <td>I decided to get this after my Alta HR finally...</td>\n",
       "    </tr>\n",
       "    <tr>\n",
       "      <th>...</th>\n",
       "      <td>...</td>\n",
       "      <td>...</td>\n",
       "      <td>...</td>\n",
       "      <td>...</td>\n",
       "    </tr>\n",
       "    <tr>\n",
       "      <th>275</th>\n",
       "      <td>5.0</td>\n",
       "      <td>Oculus Quest 2 — Advanced All-In-One Virtual R...</td>\n",
       "      <td>Holy Crap!  This is so real!</td>\n",
       "      <td>I am in love!! Thats all i can say!  This thin...</td>\n",
       "    </tr>\n",
       "    <tr>\n",
       "      <th>276</th>\n",
       "      <td>5.0</td>\n",
       "      <td>Oculus Quest 2 — Advanced All-In-One Virtual R...</td>\n",
       "      <td>Great way to get into VR</td>\n",
       "      <td>I have wanted this since before Christmas. I h...</td>\n",
       "    </tr>\n",
       "    <tr>\n",
       "      <th>277</th>\n",
       "      <td>5.0</td>\n",
       "      <td>Oculus Quest 2 — Advanced All-In-One Virtual R...</td>\n",
       "      <td>Amazing headset for an amazing price, just don...</td>\n",
       "      <td>The oculus quest 2 is a really nice headset fo...</td>\n",
       "    </tr>\n",
       "    <tr>\n",
       "      <th>278</th>\n",
       "      <td>5.0</td>\n",
       "      <td>Oculus Quest 2 — Advanced All-In-One Virtual R...</td>\n",
       "      <td>Best Fitness Accessory Ever</td>\n",
       "      <td>I got this for playing games, and ended up get...</td>\n",
       "    </tr>\n",
       "    <tr>\n",
       "      <th>279</th>\n",
       "      <td>5.0</td>\n",
       "      <td>Oculus Quest 2 — Advanced All-In-One Virtual R...</td>\n",
       "      <td>Onece they get a good headstrap it will be the...</td>\n",
       "      <td>I got it as a first VR experience gaming toy. ...</td>\n",
       "    </tr>\n",
       "  </tbody>\n",
       "</table>\n",
       "<p>880 rows × 4 columns</p>\n",
       "</div>"
      ],
      "text/plain": [
       "     rating                                            product  \\\n",
       "0       5.0  Fitbit Inspire 2 Health & Fitness Tracker with...   \n",
       "1       5.0  Fitbit Inspire 2 Health & Fitness Tracker with...   \n",
       "2       5.0  Fitbit Inspire 2 Health & Fitness Tracker with...   \n",
       "3       5.0  Fitbit Inspire 2 Health & Fitness Tracker with...   \n",
       "4       5.0  Fitbit Inspire 2 Health & Fitness Tracker with...   \n",
       "..      ...                                                ...   \n",
       "275     5.0  Oculus Quest 2 — Advanced All-In-One Virtual R...   \n",
       "276     5.0  Oculus Quest 2 — Advanced All-In-One Virtual R...   \n",
       "277     5.0  Oculus Quest 2 — Advanced All-In-One Virtual R...   \n",
       "278     5.0  Oculus Quest 2 — Advanced All-In-One Virtual R...   \n",
       "279     5.0  Oculus Quest 2 — Advanced All-In-One Virtual R...   \n",
       "\n",
       "                                             rev_title  \\\n",
       "0                                       wonderful tech   \n",
       "1                            Charge 2 HR vs. Inspire 2   \n",
       "2                        Great Purchase for My Health!   \n",
       "3                            Love my Fitbit Inspire!!!   \n",
       "4                                     Perfect Upgrade!   \n",
       "..                                                 ...   \n",
       "275                       Holy Crap!  This is so real!   \n",
       "276                           Great way to get into VR   \n",
       "277  Amazing headset for an amazing price, just don...   \n",
       "278                        Best Fitness Accessory Ever   \n",
       "279  Onece they get a good headstrap it will be the...   \n",
       "\n",
       "                                              rev_body  \n",
       "0    I'm really sad that this Inspire 2 is catching...  \n",
       "1    My four year old Charge 2 HR battery was getti...  \n",
       "2    I am very happy with this Fitbit. I was a litt...  \n",
       "3    I was worried about all the reviews that menti...  \n",
       "4    I decided to get this after my Alta HR finally...  \n",
       "..                                                 ...  \n",
       "275  I am in love!! Thats all i can say!  This thin...  \n",
       "276  I have wanted this since before Christmas. I h...  \n",
       "277  The oculus quest 2 is a really nice headset fo...  \n",
       "278  I got this for playing games, and ended up get...  \n",
       "279  I got it as a first VR experience gaming toy. ...  \n",
       "\n",
       "[880 rows x 4 columns]"
      ]
     },
     "execution_count": 33,
     "metadata": {},
     "output_type": "execute_result"
    }
   ],
   "source": [
    "pos_df = pd.concat([fit5_df, per5_df, oc5_df])\n",
    "\n",
    "pos_df"
   ]
  },
  {
   "cell_type": "markdown",
   "metadata": {},
   "source": [
    "Lucky for us it seems we have the same number of total positive reviews as we had negative, so no need to clean it to even them up.\n",
    "\n",
    "Now as before lets join all the text of the reviews together and record to total number of characters used and save it in a variable fiveStarChar to view later."
   ]
  },
  {
   "cell_type": "code",
   "execution_count": 34,
   "metadata": {},
   "outputs": [
    {
     "name": "stdout",
     "output_type": "stream",
     "text": [
      "The total number of characters used in 1 star reviews are:  480894\n"
     ]
    }
   ],
   "source": [
    "# join all the reviews together and coount the total number of characters\n",
    "\n",
    "pos_text = \" \".join(review for review in pos_df.rev_body)\n",
    "fiveStarChar = len(pos_text)\n",
    "print(\"The total number of characters used in 1 star reviews are: \",fiveStarChar )"
   ]
  },
  {
   "cell_type": "markdown",
   "metadata": {},
   "source": [
    "Now that we can see how many characters were used, lets save it in a variable 'fiveStarChar' and take a peek into the words used most, keeping the stopwords we used above to see if any noteworthy data peeks out"
   ]
  },
  {
   "cell_type": "markdown",
   "metadata": {},
   "source": [
    "# Wordcloud of all positve reviews"
   ]
  },
  {
   "cell_type": "code",
   "execution_count": 35,
   "metadata": {},
   "outputs": [
    {
     "data": {
      "image/png": "[encoded data removed]",
      "text/plain": [
       "<Figure size 432x288 with 1 Axes>"
      ]
     },
     "metadata": {
      "needs_background": "light"
     },
     "output_type": "display_data"
    }
   ],
   "source": [
    "# Wordcloud to get an idea of the words associated with these reviews\n",
    "# Create stopword list:\n",
    "stopwords = set(STOPWORDS)\n",
    "stopwords.update([\"oculus\", \"quest\", \"facebook\", \"Fitbit\", \"one\"])\n",
    "\n",
    "# Generate a word cloud image\n",
    "wordcloud = WordCloud(stopwords=stopwords, background_color=\"white\").generate(pos_text)\n",
    "\n",
    "# Display the generated image:\n",
    "plt.imshow(wordcloud, interpolation='bilinear')\n",
    "plt.axis(\"off\")\n",
    "plt.show()"
   ]
  },
  {
   "cell_type": "markdown",
   "metadata": {},
   "source": [
    "Here we can see more positve words such as \" love \" and \" great \" etc., but nothing so far that grabs me. Oh well, lets take a look at the word distrubution and see what the top used words were, first though we shouold tokenize the words and count them and save that data as 'fiveStar_word_count' to compare with the other data in our summary at the bottom."
   ]
  },
  {
   "cell_type": "markdown",
   "metadata": {},
   "source": [
    "# Tokenize and examine most common words used"
   ]
  },
  {
   "cell_type": "code",
   "execution_count": 36,
   "metadata": {},
   "outputs": [
    {
     "name": "stdout",
     "output_type": "stream",
     "text": [
      "The total number of words used in one star reviews are: 102307\n"
     ]
    }
   ],
   "source": [
    "#Tokenize the words and see the updated coount total\n",
    "tokens = word_tokenize(pos_text)\n",
    "fiveStar_word_count = len(tokens)\n",
    "print(\"The total number of words used in one star reviews are:\", fiveStar_word_count)"
   ]
  },
  {
   "cell_type": "markdown",
   "metadata": {},
   "source": [
    "Learning our lesson from last time we go ahead and add the new stopwords to our stopwrods corpus to filter out noise words."
   ]
  },
  {
   "cell_type": "code",
   "execution_count": 37,
   "metadata": {},
   "outputs": [
    {
     "data": {
      "image/png": "[encoded data removed]",
      "text/plain": [
       "<Figure size 432x288 with 1 Axes>"
      ]
     },
     "metadata": {
      "needs_background": "light"
     },
     "output_type": "display_data"
    },
    {
     "data": {
      "text/plain": [
       "<AxesSubplot:xlabel='Samples', ylabel='Counts'>"
      ]
     },
     "execution_count": 37,
     "metadata": {},
     "output_type": "execute_result"
    }
   ],
   "source": [
    "new_stopwords = ['.', \"n't\", 'The', 'It', '2', '(', ')', 't', 'Oculus', 'This'] # made an array of new stop words\n",
    "\n",
    "custom_remove = nltk.corpus.stopwords.words('english') # defined stpword as the stopwords corpus\n",
    "custom_remove.extend(new_stopwords) # extended the list\n",
    "  \n",
    "filtered_sentence = [] \n",
    "\n",
    "for a in tokens:\n",
    "    if a not in custom_remove:\n",
    "        filtered_sentence.append(a)\n",
    "      \n",
    "    \n",
    "\n",
    "#Check filtered distrobution \n",
    "\n",
    "# Updated word refrequency and graph with filtered words removed\n",
    "freq_of_words = nltk.FreqDist(filtered_sentence)\n",
    "freq_of_words.plot(30)"
   ]
  },
  {
   "cell_type": "markdown",
   "metadata": {},
   "source": [
    "Interstingly we see the reaperance of the exclamation mark. It seems we use it when expressing postive and negative emotions. Lets see the polarity scores and save them as well as log the keyboard energy number."
   ]
  },
  {
   "cell_type": "markdown",
   "metadata": {},
   "source": [
    "# The polarity scores, keyboard energy and total words used\n",
    "\n",
    "We check the polarity scores and save them as pos_dict and take a look. Remeber for these we really are only intersted in the 'pos' score as these are the postive reviews, but we will check all the scores just in case."
   ]
  },
  {
   "cell_type": "code",
   "execution_count": 38,
   "metadata": {},
   "outputs": [
    {
     "data": {
      "text/plain": [
       "{'neg': 0.045, 'neu': 0.746, 'pos': 0.209, 'compound': 1.0}"
      ]
     },
     "execution_count": 38,
     "metadata": {},
     "output_type": "execute_result"
    }
   ],
   "source": [
    "sia.polarity_scores(pos_text)\n",
    "\n",
    "pos_dict = sia.polarity_scores(pos_text)\n",
    "\n",
    "pos_dict"
   ]
  },
  {
   "cell_type": "markdown",
   "metadata": {},
   "source": [
    "We can see this time there was a lot more positive words used than negative, compared to the negative reviews where there was only a small difference in favour of postive polarity. Next lets log the keyboard engergy and save the data as 'pos_key_energy'."
   ]
  },
  {
   "cell_type": "code",
   "execution_count": 39,
   "metadata": {},
   "outputs": [
    {
     "name": "stdout",
     "output_type": "stream",
     "text": [
      "4.70049947706413\n"
     ]
    }
   ],
   "source": [
    "pos_key_energy = fiveStarChar / fiveStar_word_count\n",
    "print(pos_key_energy)"
   ]
  },
  {
   "cell_type": "markdown",
   "metadata": {},
   "source": [
    "Surprisingly, looks similar to the negative one, with only slight difference. This could be a flaw in what and how I chose to measure, or interesting data as it would show we use roughly the same length of vocabulary to express really good and bad feelings. Hopefully everything listed together will give us a clearer idea."
   ]
  },
  {
   "cell_type": "markdown",
   "metadata": {},
   "source": [
    "# Sumary of data\n",
    "\n",
    "Lets bring everything together in a nice dataframe of our three metrics we wanted to meausre and see how they compare. I am going to look at the negative polarity score for the negative reviews, and positive one for the positive reviews as well as our custom \" keyboard energy \" and the total number of words used. \n",
    "\n",
    " With the Polarity, this will show us just how \" Negative\" the negative reviews were and how \" Positive\" the postive reviews were as well ratio of words to characters and finally the total length of both.\n",
    " \n",
    "Which will win out, the positve or negative nature of man?"
   ]
  },
  {
   "cell_type": "code",
   "execution_count": 40,
   "metadata": {},
   "outputs": [
    {
     "data": {
      "text/html": [
       "<div>\n",
       "<style scoped>\n",
       "    .dataframe tbody tr th:only-of-type {\n",
       "        vertical-align: middle;\n",
       "    }\n",
       "\n",
       "    .dataframe tbody tr th {\n",
       "        vertical-align: top;\n",
       "    }\n",
       "\n",
       "    .dataframe thead th {\n",
       "        text-align: right;\n",
       "    }\n",
       "</style>\n",
       "<table border=\"1\" class=\"dataframe\">\n",
       "  <thead>\n",
       "    <tr style=\"text-align: right;\">\n",
       "      <th></th>\n",
       "      <th>Polarity</th>\n",
       "      <th>Keyboard energy</th>\n",
       "      <th>Total Words</th>\n",
       "    </tr>\n",
       "  </thead>\n",
       "  <tbody>\n",
       "    <tr>\n",
       "      <th>neg_reviews</th>\n",
       "      <td>0.100</td>\n",
       "      <td>4.730035</td>\n",
       "      <td>63812</td>\n",
       "    </tr>\n",
       "    <tr>\n",
       "      <th>pos_reviews</th>\n",
       "      <td>0.209</td>\n",
       "      <td>4.700499</td>\n",
       "      <td>102307</td>\n",
       "    </tr>\n",
       "  </tbody>\n",
       "</table>\n",
       "</div>"
      ],
      "text/plain": [
       "             Polarity  Keyboard energy  Total Words\n",
       "neg_reviews     0.100         4.730035        63812\n",
       "pos_reviews     0.209         4.700499       102307"
      ]
     },
     "execution_count": 40,
     "metadata": {},
     "output_type": "execute_result"
    }
   ],
   "source": [
    "# initialise data of lists.\n",
    "data = {'Polarity':[neg_dict['neg'], pos_dict['pos']],\n",
    "        'Keyboard energy':[neg_key_energy, pos_key_energy],\n",
    "       'Total Words':[oneStar_word_count, fiveStar_word_count]}\n",
    " \n",
    "# Creates pandas DataFrame.\n",
    "df = pd.DataFrame(data, index =['neg_reviews',\n",
    "                                'pos_reviews'])\n",
    " \n",
    "# print the data\n",
    "df"
   ]
  },
  {
   "cell_type": "markdown",
   "metadata": {},
   "source": [
    "As we can see in Polarity, the postive reviews had nearly twice the score as the negative reviews in postive and negative polarities respectively. Quite the surprise! \n",
    "\n",
    "Keyboard enerygy was mostly the same between the two, with a slightly higher ratio in negative reviews. \n",
    "\n",
    "And Total Words used, pos reviews takes the cake at nearly 40,000 more words used than negative reviews!\n",
    "\n",
    "So it appears, that people do in fact put more energy into praising things they like and love, than complaining and writing about the things they do not! Yay for positivty! "
   ]
  },
  {
   "cell_type": "markdown",
   "metadata": {},
   "source": [
    "# Critizisms of methodolgy\n",
    "\n",
    "## Metrics\n",
    "\n",
    "Firstly, it is difficult in general to measure human emotion, as it is not a clearly objective thing. Using the three criteria I had was perahps a good starting point, but the polarity model may not have been as accurate as we hoped. For example, sarcasm might fly under the radar of a machine model. \n",
    "\n",
    "Secodnly \" Keyboard Energy \" itself is a construct I came up with, and do not have strong evidence to prove that it is a good metric to measure anything, other than my ideas. This is something that could be studied in its own right to see if it is meaningful of anything or not. Being I am no expert in either socialology or data science this metric should be taken with a very hefty pinch of salt. But I do think it was an interasting bit of data to have looked at, all the same. I do wonder if we tend to use the same ratio of characters to words with everything we write in English, or just postive and negative reviews.\n",
    "\n",
    "Thirdly, Total Words may not convey as much effort as we may believe. For example, perhaps people that tend to leave 5 star reviews are also the type to regualry write many reviews and for them it is a joy, and not an effort to be expended to write them. If giving a survey that asks, \" Do you often answer surverys ? \" Many of the respondandts would say \" yes \" as there is an implicit bias there. Also the same goes for 1 start reviews. Perhaps some people just feel like they don't want to waster any more time bemoaning their purchase.\n",
    "\n",
    "## Source of data\n",
    "\n",
    "The reviews themselvs may also be of concern or question. For example some of them, or many, may be \" paid reveiws \", that is a company hired them to beef up the five star reviews and make the products look much better, or worse , than they actually are. If real humans wrote them, it would be very difficult to train a model to detect which are genuine and which are not, even taking into account the \" verified purchase \" tag in some of the reviews. Just beucase it was bought, doesn't mean the reviewer didn't have a vested intersted in giving an absolutely stellar review."
   ]
  },
  {
   "cell_type": "markdown",
   "metadata": {},
   "source": [
    "# Final Thoughts\n",
    "\n",
    "This was a fun assignment, but in the end I am not sure if I actually proved that people tend to pour more of their energy into positive emotions or not. The data I analyzed seems to point in that direction, but further studies should be done to compare and contrast.\n",
    "\n",
    "## Further development ideas\n",
    "\n",
    "The first would be to gather data from many differnt sites to have many more data points too measure. With only 1,760 total data points, it may be too small of a sample. And perahps branching out beyond Amazon, to restaurants, mobile phone apps and perahps even studetn reviews of classes would add more insight. \n",
    "\n",
    "The second would be to come up with other criteria with which to measure, and perahps even validate those criteria, in order to see if the results still favour postive over negative emotion expressios. A study in and of itself could check and see what things we tend to use when we are emotional.\n",
    "\n",
    "Another idea would to be to have an \" emoji analysis\" to see if there is any correlation between the emojis we use, and frequency of use are affected by emotion. \n",
    "\n",
    "Finally, one could further compare the data by the age of the writers. Which generation complains more? Is there a big differnce in how we use language, punctuation and even text within a given age group?\n"
   ]
  },
  {
   "cell_type": "markdown",
   "metadata": {},
   "source": [
    "# Citations\n",
    "[1] https://doi.apa.org/doiLanding?doi=10.1037%2F0022-3514.75.4.887 \n",
    "\n",
    "[2] https://www.quora.com/Is-scraping-Amazon-legal\n",
    "\n",
    "[3] https://www.nature.com/articles/s41598-018-32752-0 "
   ]
  },
  {
   "cell_type": "code",
   "execution_count": null,
   "metadata": {},
   "outputs": [],
   "source": []
  }
 ],
 "metadata": {
  "kernelspec": {
   "display_name": "Python 3",
   "language": "python",
   "name": "python3"
  },
  "language_info": {
   "codemirror_mode": {
    "name": "ipython",
    "version": 3
   },
   "file_extension": ".py",
   "mimetype": "text/x-python",
   "name": "python",
   "nbconvert_exporter": "python",
   "pygments_lexer": "ipython3",
   "version": "3.8.5"
  }
 },
 "nbformat": 4,
 "nbformat_minor": 4
}
